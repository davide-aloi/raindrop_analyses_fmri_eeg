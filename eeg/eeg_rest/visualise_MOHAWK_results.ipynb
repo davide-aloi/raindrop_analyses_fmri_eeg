{
 "cells": [
  {
   "cell_type": "code",
   "execution_count": 11,
   "metadata": {},
   "outputs": [
    {
     "name": "stdout",
     "output_type": "stream",
     "text": [
      "['D:\\\\Raindrop_data\\\\p01\\\\p01_w01\\\\eeg_baseline\\\\resting_state\\\\p01_w01_rest_20220422_155919_mohawk.mat', 'D:\\\\Raindrop_data\\\\p01\\\\p01_w02\\\\day04_eeg\\\\resting_state\\\\p01_w02_resting_state_20220506_162732_mohawk.mat', 'D:\\\\Raindrop_data\\\\p01\\\\p01_w03\\\\eeg_baseline\\\\resting_state\\\\p01_w03_rest_20220515_130235_mohawk.mat', 'D:\\\\Raindrop_data\\\\p01\\\\p01_w04\\\\day04_eeg\\\\resting_state\\\\p01_w04_day04_rest_20220519_114052_mohawk.mat', 'D:\\\\Raindrop_data\\\\p01\\\\p01_w05\\\\eeg_baseline\\\\resting_state\\\\p01_w05_eeg_rest_20220527_133402_mohawk.mat', 'D:\\\\Raindrop_data\\\\p01\\\\p01_w06\\\\day04_eeg\\\\resting_state\\\\p01_w06_rest_20220616_142559_mohawk.mat']\n"
     ]
    }
   ],
   "source": [
    "# Author Davide Aloi\n",
    "# Description: Load MOHAWK results (.mat) and make different plots\n",
    "\n",
    "\n",
    "import scipy.io\n",
    "import numpy as np\n",
    "import glob \n",
    "\n",
    "# path to your mohawk results\n",
    "folder = glob.glob('D:\\\\Raindrop_data\\\\p01\\\\*\\\\*\\\\resting_state\\\\*.mat')\n",
    "print(folder)"
   ]
  },
  {
   "cell_type": "code",
   "execution_count": 13,
   "metadata": {},
   "outputs": [],
   "source": [
    "mohawk_mat = scipy.io.loadmat(folder[0])"
   ]
  },
  {
   "cell_type": "code",
   "execution_count": 34,
   "metadata": {},
   "outputs": [
    {
     "data": {
      "text/plain": [
       "(5, 37, 91)"
      ]
     },
     "execution_count": 34,
     "metadata": {},
     "output_type": "execute_result"
    }
   ],
   "source": [
    "mk_tvals = mohawk_mat['tvals']\n",
    "mk_matrix = mohawk_mat['matrix']\n",
    "mk_graph = mohawk_mat['graphdata']\n",
    "\n",
    "# example: to access clustering coefficient results: \n",
    "mk_ccr = mk_graph[0][1]\n",
    "mk_ccr.shape"
   ]
  },
  {
   "cell_type": "code",
   "execution_count": 36,
   "metadata": {},
   "outputs": [
    {
     "data": {
      "text/plain": [
       "(37, 91)"
      ]
     },
     "execution_count": 36,
     "metadata": {},
     "output_type": "execute_result"
    }
   ],
   "source": [
    "mk_ccr[0,:,:].shape"
   ]
  }
 ],
 "metadata": {
  "kernelspec": {
   "display_name": "Python 3.9.5 ('base')",
   "language": "python",
   "name": "python3"
  },
  "language_info": {
   "codemirror_mode": {
    "name": "ipython",
    "version": 3
   },
   "file_extension": ".py",
   "mimetype": "text/x-python",
   "name": "python",
   "nbconvert_exporter": "python",
   "pygments_lexer": "ipython3",
   "version": "3.9.5"
  },
  "orig_nbformat": 4,
  "vscode": {
   "interpreter": {
    "hash": "cc50a662c2e021726939198692c66c2d1aae2f6a4055ff005121f9b319523f59"
   }
  }
 },
 "nbformat": 4,
 "nbformat_minor": 2
}
