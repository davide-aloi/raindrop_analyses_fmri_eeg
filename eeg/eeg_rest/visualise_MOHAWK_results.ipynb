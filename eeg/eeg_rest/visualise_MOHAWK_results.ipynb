{
 "cells": [
  {
   "cell_type": "code",
   "execution_count": 6,
   "metadata": {},
   "outputs": [],
   "source": [
    "# Author Davide Aloi\n",
    "# Description: Load MOHAWK results and metrics extracted with get_metrics.m and make different plots\n",
    "\n",
    "import scipy.io\n",
    "import numpy as np\n",
    "import glob \n",
    "\n",
    "# path to your mohawk results\n",
    "files = glob.glob('D:\\\\Raindrop_data\\\\p01\\\\*\\\\*\\\\resting_state\\\\*mohawk.mat')\n",
    "metrics = glob.glob('D:\\\\Raindrop_data\\\\p01\\\\*\\\\*\\\\resting_state\\\\LPAT*.mat')"
   ]
  },
  {
   "cell_type": "code",
   "execution_count": 14,
   "metadata": {},
   "outputs": [
    {
     "data": {
      "text/plain": [
       "['D:\\\\Raindrop_data\\\\p01\\\\p01_w01\\\\eeg_baseline\\\\resting_state\\\\LPAT_mohawk_metric_output.mat',\n",
       " 'D:\\\\Raindrop_data\\\\p01\\\\p01_w02\\\\day04_eeg\\\\resting_state\\\\LPAT_mohawk_metric_output.mat',\n",
       " 'D:\\\\Raindrop_data\\\\p01\\\\p01_w03\\\\eeg_baseline\\\\resting_state\\\\LPAT_mohawk_metric_output.mat',\n",
       " 'D:\\\\Raindrop_data\\\\p01\\\\p01_w04\\\\day04_eeg\\\\resting_state\\\\LPAT_mohawk_metric_output.mat',\n",
       " 'D:\\\\Raindrop_data\\\\p01\\\\p01_w05\\\\eeg_baseline\\\\resting_state\\\\LPAT_mohawk_metric_output.mat',\n",
       " 'D:\\\\Raindrop_data\\\\p01\\\\p01_w06\\\\day04_eeg\\\\resting_state\\\\LPAT_mohawk_metric_output.mat']"
      ]
     },
     "execution_count": 14,
     "metadata": {},
     "output_type": "execute_result"
    }
   ],
   "source": [
    "metrics"
   ]
  },
  {
   "cell_type": "code",
   "execution_count": 13,
   "metadata": {},
   "outputs": [],
   "source": [
    "# lists with results\n",
    "all_alpha_rel_pwr = []\n",
    "all_alpha_med_con = []\n",
    "all_alpha_mod_span = []\n",
    "all_alpha_sd_part_coeff = []\n",
    "\n",
    "all_delta_rel_pwr = []\n",
    "all_delta_modularity = []\n",
    "all_delta_med_con = []\n",
    "all_delta_clust_coeff = []\n",
    "\n",
    "\n",
    "for metrics_res in metrics:\n",
    "    res = scipy.io.loadmat(metrics_res)\n",
    "    alpha_rel_pwr = res['alpha_rel_pwr'][0][0]\n",
    "    alpha_med_con = res['alpha_med_con'][0][0]\n",
    "    alpha_mod_span = res['alpha_mod_span'][0][0]\n",
    "    alpha_sd_part_coeff = res['alpha_sd_part_coeff'][0][0]\n",
    "    delta_rel_pwr = res['delta_rel_pwr'][0][0]\n",
    "    delta_modularity = res['delta_modularity'][0][0]\n",
    "    delta_med_con = res['delta_med_con'][0][0]\n",
    "    delta_clust_coeff = res['delta_clust_coeff'][0][0]"
   ]
  },
  {
   "cell_type": "code",
   "execution_count": 11,
   "metadata": {},
   "outputs": [
    {
     "data": {
      "text/plain": [
       "0.12048942107861055"
      ]
     },
     "execution_count": 11,
     "metadata": {},
     "output_type": "execute_result"
    }
   ],
   "source": []
  },
  {
   "cell_type": "code",
   "execution_count": 13,
   "metadata": {},
   "outputs": [],
   "source": [
    "mohawk_mat = scipy.io.loadmat(files[0])"
   ]
  },
  {
   "cell_type": "code",
   "execution_count": null,
   "metadata": {},
   "outputs": [],
   "source": []
  },
  {
   "cell_type": "code",
   "execution_count": 34,
   "metadata": {},
   "outputs": [
    {
     "data": {
      "text/plain": [
       "(5, 37, 91)"
      ]
     },
     "execution_count": 34,
     "metadata": {},
     "output_type": "execute_result"
    }
   ],
   "source": [
    "mk_tvals = mohawk_mat['tvals']\n",
    "mk_matrix = mohawk_mat['matrix']\n",
    "mk_graph = mohawk_mat['graphdata']\n",
    "\n",
    "# example: to access clustering coefficient results: \n",
    "mk_ccr = mk_graph[0][1]\n",
    "mk_ccr.shape"
   ]
  },
  {
   "cell_type": "code",
   "execution_count": 36,
   "metadata": {},
   "outputs": [
    {
     "data": {
      "text/plain": [
       "(37, 91)"
      ]
     },
     "execution_count": 36,
     "metadata": {},
     "output_type": "execute_result"
    }
   ],
   "source": [
    "mk_ccr[0,:,:].shape"
   ]
  }
 ],
 "metadata": {
  "kernelspec": {
   "display_name": "Python 3.9.5 ('base')",
   "language": "python",
   "name": "python3"
  },
  "language_info": {
   "codemirror_mode": {
    "name": "ipython",
    "version": 3
   },
   "file_extension": ".py",
   "mimetype": "text/x-python",
   "name": "python",
   "nbconvert_exporter": "python",
   "pygments_lexer": "ipython3",
   "version": "3.9.5"
  },
  "orig_nbformat": 4,
  "vscode": {
   "interpreter": {
    "hash": "cc50a662c2e021726939198692c66c2d1aae2f6a4055ff005121f9b319523f59"
   }
  }
 },
 "nbformat": 4,
 "nbformat_minor": 2
}
