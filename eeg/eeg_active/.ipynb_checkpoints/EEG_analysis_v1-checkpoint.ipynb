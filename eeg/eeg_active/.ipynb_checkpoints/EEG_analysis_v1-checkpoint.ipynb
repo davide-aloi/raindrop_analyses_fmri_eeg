{
 "cells": [
  {
   "cell_type": "code",
   "execution_count": 36,
   "metadata": {},
   "outputs": [
    {
     "name": "stdout",
     "output_type": "stream",
     "text": [
      "C:/Users/davide/Desktop/eeg/alice2_20200207_130636.mff\n"
     ]
    }
   ],
   "source": [
    "%matplotlib inline\n",
    "import mne, os\n",
    "mne.set_log_level(\"WARNING\")\n",
    "\n",
    "data_path = \"C:/Users/davide/Desktop/eeg/\"\n",
    "raw_fname = data_path + \"alice2_20200207_130636.mff\"\n",
    "print (raw_fname)"
   ]
  },
  {
   "cell_type": "code",
   "execution_count": 37,
   "metadata": {},
   "outputs": [],
   "source": [
    "raw = mne.io.read_raw_egi(raw_fname, preload=True)\n",
    "print(raw.info) #Info about our EEG recording"
   ]
  },
  {
   "cell_type": "code",
   "execution_count": 53,
   "metadata": {},
   "outputs": [
    {
     "data": {
      "text/plain": [
       "array([  0,   1,   2,   3,   4,   5,   6,   7,   8,   9,  10,  11,  12,\n",
       "        13,  14,  15,  16,  17,  18,  19,  20,  21,  22,  23,  24,  25,\n",
       "        26,  27,  28,  29,  30,  31,  32,  33,  34,  35,  36,  37,  38,\n",
       "        39,  40,  41,  42,  43,  44,  45,  46,  47,  48,  49,  50,  51,\n",
       "        52,  53,  54,  55,  56,  57,  58,  59,  60,  61,  62,  63,  64,\n",
       "        65,  66,  67,  68,  69,  70,  71,  72,  73,  74,  75,  76,  77,\n",
       "        78,  79,  80,  81,  82,  83,  84,  85,  86,  87,  88,  89,  90,\n",
       "        91,  92,  93,  94,  95,  96,  97,  98,  99, 100, 101, 102, 103,\n",
       "       104, 105, 106, 107, 108, 109, 110, 111, 112, 113, 114, 115, 116,\n",
       "       117, 118, 119, 120, 121, 122, 123, 124, 125, 126, 127, 128])"
      ]
     },
     "execution_count": 53,
     "metadata": {},
     "output_type": "execute_result"
    }
   ],
   "source": [
    "#print(raw.ch_names)\n",
    "montage = mne.channels.make_standard_montage('GSN-HydroCel-128')\n",
    "#montage.plot()\n",
    "picks_eeg = mne.pick_types(raw.info, meg=False, eeg=True, stim=False,\n",
    "                       exclude='bads')"
   ]
  },
  {
   "cell_type": "code",
   "execution_count": 45,
   "metadata": {},
   "outputs": [
    {
     "name": "stdout",
     "output_type": "stream",
     "text": [
      "36 events found\n",
      "Event IDs: [1]\n"
     ]
    }
   ],
   "source": [
    "#print(mne.find_events(raw))\n",
    "events = mne.find_events(raw, stim_channel='STIM', verbose=True)\n",
    "#IDK why but they all have the same id (=1).\n",
    "#Maybe it's because I sent them all as STIM. \n"
   ]
  },
  {
   "cell_type": "raw",
   "metadata": {},
   "source": [
    "raw.set_eeg_reference(\"average\") #setting a reference."
   ]
  },
  {
   "cell_type": "code",
   "execution_count": 47,
   "metadata": {},
   "outputs": [
    {
     "data": {
      "text/plain": [
       "[<matplotlib.lines.Line2D at 0x2742868f430>]"
      ]
     },
     "execution_count": 47,
     "metadata": {},
     "output_type": "execute_result"
    },
    {
     "data": {
      "image/png": "[encoded data removed]",
      "text/plain": [
       "<Figure size 432x288 with 1 Axes>"
      ]
     },
     "metadata": {
      "needs_background": "light"
     },
     "output_type": "display_data"
    }
   ],
   "source": [
    "import matplotlib.pyplot as plt\n",
    "plt.plot(raw._data[-1])"
   ]
  },
  {
   "cell_type": "code",
   "execution_count": null,
   "metadata": {},
   "outputs": [],
   "source": []
  }
 ],
 "metadata": {
  "kernelspec": {
   "display_name": "Python 3",
   "language": "python",
   "name": "python3"
  },
  "language_info": {
   "codemirror_mode": {
    "name": "ipython",
    "version": 3
   },
   "file_extension": ".py",
   "mimetype": "text/x-python",
   "name": "python",
   "nbconvert_exporter": "python",
   "pygments_lexer": "ipython3",
   "version": "3.8.1"
  }
 },
 "nbformat": 4,
 "nbformat_minor": 4
}
