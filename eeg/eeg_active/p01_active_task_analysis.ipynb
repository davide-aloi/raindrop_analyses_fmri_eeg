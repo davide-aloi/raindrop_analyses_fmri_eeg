{
 "cells": [
  {
   "cell_type": "code",
   "execution_count": 2,
   "metadata": {},
   "outputs": [
    {
     "name": "stderr",
     "output_type": "stream",
     "text": [
      "<frozen importlib._bootstrap>:228: RuntimeWarning: scipy._lib.messagestream.MessageStream size changed, may indicate binary incompatibility. Expected 56 from C header, got 64 from PyObject\n"
     ]
    }
   ],
   "source": [
    "# Author Davide Aloi\n",
    "# Scripts for the analyses of the EEG data (active task) collected at the Wellington Hospital - Aloi Davide PhD UoB\n",
    "\n",
    "import numpy as np\n",
    "import mne\n",
    "import os\n",
    "import glob \n",
    "import matplotlib.pyplot as plt\n",
    "from preprocessing.preprocess import preprocess \n",
    "import autoreject\n",
    "from autoreject import Ransac\n",
    "from time import time, ctime\n",
    "\n",
    "mne.set_log_level(\"WARNING\")\n",
    "\n",
    "# Folders to the EEG active task data\n",
    "output_folder = 'D:\\\\Raindrop_eeg_analysis\\\\p01\\\\'\n",
    "sessions = ['D:\\\\Raindrop_data\\\\p01\\\\p01_w01\\\\eeg_baseline\\\\active_task\\\\', # baseline w 1\n",
    "            'D:\\\\Raindrop_data\\\\p01\\\\p01_w02\\\\day04_eeg\\\\active_task\\\\', # post w 2\n",
    "            'D:\\\\Raindrop_data\\\\p01\\\\p01_w03\\\\eeg_baseline\\\\active_task\\\\', # baseline w 3\n",
    "            'D:\\\\Raindrop_data\\\\p01\\\\p01_w04\\\\day04_eeg\\\\active_task\\\\', # post w 4\n",
    "            'D:\\\\Raindrop_data\\\\p01\\\\p01_w05\\\\eeg_baseline\\\\active_task\\\\', # baseline w5\n",
    "            'D:\\\\Raindrop_data\\\\p01\\\\p01_w06\\\\day04_eeg\\\\active_task\\\\'] # post w6\n",
    "            \n",
    "sessions = ['D:\\\\Raindrop_data\\\\p01\\\\p01_w01\\\\eeg_baseline\\\\active_task\\\\']\n",
    "#sessions = ['D:\\\\Raindrop_data\\\\p01\\\\p01_w01\\\\eeg_baseline\\\\active_task\\\\']\n",
    "# Paths to .mff files\n",
    "sessions_raw = []\n",
    "for n, session in enumerate(sessions):\n",
    "    sessions_raw.append(glob.glob(session + '\\*.mff')[0])"
   ]
  },
  {
   "cell_type": "code",
   "execution_count": 4,
   "metadata": {},
   "outputs": [
    {
     "name": "stdout",
     "output_type": "stream",
     "text": [
      "D:\\Raindrop_data\\p01\\p01_w01\\eeg_baseline\\active_task\\p01_w01_active_20220422_154518.mff\n",
      "72 events found\n",
      "Event IDs: [1 2]\n"
     ]
    }
   ],
   "source": [
    "# cleaning all sessions\n",
    "for session in sessions_raw:\n",
    "    print(session)\n",
    "    session_name = session.split('\\\\')[3]\n",
    "    raw = mne.io.read_raw_egi(session, preload=True)\n",
    "    picks = mne.pick_types(raw.info, meg=False, eeg=True, eog=True, stim=False)\n",
    "    montage = mne.channels.make_standard_montage('GSN-HydroCel-128')\n",
    "    events = mne.find_events(raw, stim_channel='STI 014', verbose=True)\n",
    "    raw.filter(1, None)\n",
    "    raw.filter(None, 100) \n",
    "    raw.notch_filter([50,100], picks=picks, filter_length='auto',\n",
    "                 phase='zero')\n",
    "    raw.set_eeg_reference(ref_channels='average')\n",
    "    raw.apply_proj()\n",
    "    epochs = mne.Epochs(raw, events, dict(move=1,relax=2), -1, 3, baseline=None,\n",
    "                        reject=None, verbose=False, detrend=0, preload=True)\n",
    "    epochs_bck = epochs.copy()                    \n",
    "    # annotate bad channels, bad epochs\n",
    "    epochs.plot()\n",
    "\n",
    "    "
   ]
  },
  {
   "cell_type": "code",
   "execution_count": null,
   "metadata": {},
   "outputs": [],
   "source": [
    "# cleaning all sessions\n",
    "for session in sessions_raw:\n",
    "    print(session)\n",
    "    session_name = session.split('\\\\')[3]\n",
    "    raw = mne.io.read_raw_egi(session, preload=True)\n",
    "    picks_eeg = mne.pick_types(raw.info, meg=False, eeg=True, eog=True, stim=False)\n",
    "    cleaned_epochs = preprocess(session_name,'D:\\\\Raindrop_eeg_analysis\\\\p01\\\\', raw, 'GSN-HydroCel-128', 'average',\n",
    "                                'STI 014', picks_eeg, events_id = dict(move=1,relax=2), tmin = -1, tmax = 3,\n",
    "                                filter = (1,40), baseline = (-0.8,-0.2), review_ica = False,  save = True)"
   ]
  }
 ],
 "metadata": {
  "interpreter": {
   "hash": "1a04e8d3cf57eb13e3e424f0af4edd4725046eee0d61fcbf258511c525184dd3"
  },
  "kernelspec": {
   "display_name": "Python 3.9.7 ('neuroimg')",
   "language": "python",
   "name": "python3"
  },
  "language_info": {
   "codemirror_mode": {
    "name": "ipython",
    "version": 3
   },
   "file_extension": ".py",
   "mimetype": "text/x-python",
   "name": "python",
   "nbconvert_exporter": "python",
   "pygments_lexer": "ipython3",
   "version": "3.9.7"
  },
  "orig_nbformat": 4
 },
 "nbformat": 4,
 "nbformat_minor": 2
}
