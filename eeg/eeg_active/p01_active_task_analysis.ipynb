{
 "cells": [
  {
   "cell_type": "code",
   "execution_count": null,
   "metadata": {},
   "outputs": [],
   "source": []
  },
  {
   "cell_type": "code",
   "execution_count": 7,
   "metadata": {},
   "outputs": [],
   "source": [
    "# Author Davide Aloi\n",
    "# Scripts for the analyses of the EEG data (active task) collected at the Wellington Hospital - Aloi Davide PhD UoB\n",
    "\n",
    "import numpy as np\n",
    "import mne\n",
    "import os\n",
    "import glob \n",
    "import matplotlib.pyplot as plt\n",
    "from preprocessing.preprocess import preprocess \n",
    "\n",
    "mne.set_log_level(\"WARNING\")\n",
    "mne.cuda.init_cuda(verbose=True)\n",
    "mne.utils.set_config('MNE_USE_CUDA', 'true')  \n",
    "\n",
    "# Folders to the EEG active task data\n",
    "output_folder = 'D:\\\\Raindrop_eeg_analysis\\\\p01\\\\'\n",
    "sessions = ['D:\\\\Raindrop_data\\\\p01\\\\p01_w01\\\\eeg_baseline\\\\active_task\\\\', # baseline w 1\n",
    "            'D:\\\\Raindrop_data\\\\p01\\\\p01_w02\\\\day04_eeg\\\\active_task\\\\', # post w 2\n",
    "            'D:\\\\Raindrop_data\\\\p01\\\\p01_w03\\\\eeg_baseline\\\\active_task\\\\', # baseline w 3\n",
    "            'D:\\\\Raindrop_data\\\\p01\\\\p01_w04\\\\day04_eeg\\\\active_task\\\\', # post w 4\n",
    "            'D:\\\\Raindrop_data\\\\p01\\\\p01_w05\\\\eeg_baseline\\\\active_task\\\\', # baseline w5\n",
    "            'D:\\\\Raindrop_data\\\\p01\\\\p01_w06\\\\day04_eeg\\\\active_task\\\\'] # post w6\n",
    "\n",
    "# Paths to .mff files\n",
    "sessions_raw = []\n",
    "for n, session in enumerate(sessions):\n",
    "    sessions_raw.append(glob.glob(session + '\\*.mff')[0])\n",
    "\n",
    "raw = mne.io.read_raw_egi(sessions_raw[0], preload=True)\n",
    "cd C:\\Users\\davide\\Documents\\GitHub\\raindrop_analyses_fmri_eeg\\eeg\\eeg_active\n",
    "cleaned_epochs = preprocess('p01_w01','D:\\\\Raindrop_eeg_analysis\\\\p01\\\\', raw, 'GSN-HydroCel-128', 'STI 014',\n",
    "            events_id = dict(move=1,relax=2), save = True)"
   ]
  },
  {
   "cell_type": "code",
   "execution_count": null,
   "metadata": {},
   "outputs": [],
   "source": []
  },
  {
   "cell_type": "code",
   "execution_count": null,
   "metadata": {},
   "outputs": [],
   "source": []
  }
 ],
 "metadata": {
  "interpreter": {
   "hash": "1a04e8d3cf57eb13e3e424f0af4edd4725046eee0d61fcbf258511c525184dd3"
  },
  "kernelspec": {
   "display_name": "Python 3.9.7 ('neuroimg')",
   "language": "python",
   "name": "python3"
  },
  "language_info": {
   "codemirror_mode": {
    "name": "ipython",
    "version": 3
   },
   "file_extension": ".py",
   "mimetype": "text/x-python",
   "name": "python",
   "nbconvert_exporter": "python",
   "pygments_lexer": "ipython3",
   "version": "3.9.7"
  },
  "orig_nbformat": 4
 },
 "nbformat": 4,
 "nbformat_minor": 2
}
