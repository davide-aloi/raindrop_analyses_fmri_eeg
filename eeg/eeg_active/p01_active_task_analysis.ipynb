{
 "cells": [
  {
   "cell_type": "code",
   "execution_count": 1,
   "metadata": {},
   "outputs": [],
   "source": [
    "# Author Davide Aloi\n",
    "# Scripts for the analyses of the EEG data (active task) collected at the Wellington Hospital - Aloi Davide PhD UoB"
   ]
  },
  {
   "cell_type": "code",
   "execution_count": 2,
   "metadata": {},
   "outputs": [
    {
     "name": "stdout",
     "output_type": "stream",
     "text": [
      "Using matplotlib backend: <object object at 0x000002BD343362F0>\n",
      "Now using CUDA device 0\n",
      "Enabling CUDA with 3.28 GB available memory\n"
     ]
    }
   ],
   "source": [
    "%matplotlib\n",
    "import numpy as np\n",
    "import mne\n",
    "import os\n",
    "import glob \n",
    "import cupy\n",
    "import matplotlib.pyplot as plt\n",
    "\n",
    "mne.set_log_level(\"WARNING\")\n",
    "mne.cuda.init_cuda(verbose=True)\n",
    "mne.utils.set_config('MNE_USE_CUDA', 'true')  \n",
    "\n",
    "# Folders to the EEG active task data\n",
    "output_folder = 'D:\\\\Raindrop_eeg_analysis\\\\p01\\\\'\n",
    "sessions = ['D:\\\\Raindrop_data\\\\p01\\\\p01_w01\\\\eeg_baseline\\\\active_task\\\\', # baseline w 1\n",
    "            'D:\\\\Raindrop_data\\\\p01\\\\p01_w02\\\\day04_eeg\\\\active_task\\\\', # post w 2\n",
    "            'D:\\\\Raindrop_data\\\\p01\\\\p01_w03\\\\eeg_baseline\\\\active_task\\\\', # baseline w 3\n",
    "            'D:\\\\Raindrop_data\\\\p01\\\\p01_w04\\\\day04_eeg\\\\active_task\\\\', # post w 4\n",
    "            'D:\\\\Raindrop_data\\\\p01\\\\p01_w05\\\\eeg_baseline\\\\active_task\\\\', # baseline w5\n",
    "            'D:\\\\Raindrop_data\\\\p01\\\\p01_w06\\\\day04_eeg\\\\active_task\\\\'] # post w6\n",
    "\n",
    "# Paths to .mff files\n",
    "sessions_raw = []\n",
    "for n, session in enumerate(sessions):\n",
    "    sessions_raw.append(glob.glob(session + '\\*.mff')[0])\n",
    "\n",
    "raw = mne.io.read_raw_egi(sessions_raw[0], preload=True)"
   ]
  },
  {
   "cell_type": "code",
   "execution_count": 3,
   "metadata": {},
   "outputs": [
    {
     "name": "stderr",
     "output_type": "stream",
     "text": [
      "<frozen importlib._bootstrap>:228: RuntimeWarning: scipy._lib.messagestream.MessageStream size changed, may indicate binary incompatibility. Expected 56 from C header, got 64 from PyObject\n"
     ]
    },
    {
     "name": "stdout",
     "output_type": "stream",
     "text": [
      "72 events found\n",
      "Event IDs: [1 2]\n"
     ]
    }
   ],
   "source": [
    "montage = mne.channels.make_standard_montage('GSN-HydroCel-128')\n",
    "raw_filtered = raw.copy().filter(1, 40)\n",
    "picks_eeg = mne.pick_types(raw.info, meg=False, eeg=True, eog=True, stim=False,\n",
    "                           exclude='bads')\n",
    "events = mne.find_events(raw, stim_channel='STI 014', verbose=True) # or STIM\n",
    "montage = mne.channels.make_standard_montage('GSN-HydroCel-128')\n",
    "#montage.plot()  # 2D\n",
    "#fig = montage.plot(kind='3d', show=False)  # 3D\n",
    "#fig = fig.gca().view_init(azim=70, elev=15)  # set view angle for tutorial"
   ]
  },
  {
   "cell_type": "code",
   "execution_count": null,
   "metadata": {},
   "outputs": [],
   "source": [
    "event_id = dict(move=1,relax=2)\n",
    "#event_id = dict(move=1)\n",
    "\n",
    "# epoching ALL DATA without baseline correction for bad channel detection\n",
    "epochs = mne.Epochs(raw_filtered, events, event_id, 0, 2,\n",
    "                baseline=None, reject=None,\n",
    "                verbose=False, detrend=0, preload=True)\n",
    "\n",
    "# RANSAC bad channel detection\n",
    "from autoreject import Ransac  # this uses ransac from PREP\n",
    "ransac = Ransac(verbose=True, picks=picks_eeg, n_jobs=1)\n",
    "epochs_clean = ransac.fit_transform(epochs)\n",
    "bad_chs = ransac.bad_chs_ # list with bad channels according to RANSAC \n",
    "\n",
    "# Workflow: autoreject -> ica -> autoreject\n",
    "# The workflow is suggested here \n",
    "# https://autoreject.github.io/stable/auto_examples/plot_autoreject_workflow.html#sphx-glr-auto-examples-plot-autoreject-workflow-py\n",
    "\n",
    "# Bad epochs detection (BEFORE ICA)\n",
    "import autoreject\n",
    "ar = autoreject.AutoReject(n_interpolate=[1, 2, 3, 4], random_state=11,\n",
    "                           n_jobs=1, verbose=True)\n",
    "ar.fit(epochs[:20])  # fit on a few epochs to save time\n",
    "epochs_ar, reject_log = ar.transform(epochs, return_log=True)\n",
    "reject_log.plot('horizontal')\n",
    "print(f'Rejected Epochs: {(reject_log.bad_epochs == True).sum()}')\n",
    "# reject_log.bad_epochs\n",
    "\n",
    "# ICA without bad epochs / bad channels\n",
    "epochs.info['bads'] = bad_chs\n",
    "ica = mne.preprocessing.ICA(random_state=99)\n",
    "ica.fit(epochs[~reject_log.bad_epochs])\n",
    "\n",
    "# here you need to plot ICA and exclude bad components by clicking on them\n",
    "ica.plot_components(picks = np.arange(0,30,1))\n",
    "print(ica.exclude) # list of components excluded\n",
    "ica.plot_components(ica.exclude)\n",
    "ica.plot_overlay(epochs.average(), exclude=ica.exclude)\n",
    "ica.apply(epochs, exclude=ica.exclude)\n",
    "\n",
    "# Autoreject after high pass filter and ICA\n",
    "epochs.info['bads'] = []\n",
    "ar = autoreject.AutoReject(n_interpolate=[1, 2, 3, 4], random_state=11,\n",
    "                           n_jobs=1, verbose=True)\n",
    "\n",
    "ar.fit(epochs[:20])  # fit on the first 20 epochs to save time\n",
    "epochs_ar, reject_log = ar.transform(epochs, return_log=True)\n",
    "epochs[reject_log.bad_epochs].plot(scalings=dict(eeg=100e-6))\n",
    "reject_log.plot('horizontal')\n",
    "\n",
    "evoked_bad = epochs[reject_log.bad_epochs].average()\n",
    "plt.figure()\n",
    "plt.plot(evoked_bad.times, evoked_bad.data.T * 1e6, 'r', zorder=-1)\n",
    "epochs_ar.average().plot(axes=plt.gca())\n",
    "\n",
    "mne.set_eeg_reference(epochs_ar, ref_channels='average', copy = False)"
   ]
  }
 ],
 "metadata": {
  "interpreter": {
   "hash": "1a04e8d3cf57eb13e3e424f0af4edd4725046eee0d61fcbf258511c525184dd3"
  },
  "kernelspec": {
   "display_name": "Python 3.9.7 ('neuroimg')",
   "language": "python",
   "name": "python3"
  },
  "language_info": {
   "codemirror_mode": {
    "name": "ipython",
    "version": 3
   },
   "file_extension": ".py",
   "mimetype": "text/x-python",
   "name": "python",
   "nbconvert_exporter": "python",
   "pygments_lexer": "ipython3",
   "version": "3.9.7"
  },
  "orig_nbformat": 4
 },
 "nbformat": 4,
 "nbformat_minor": 2
}
