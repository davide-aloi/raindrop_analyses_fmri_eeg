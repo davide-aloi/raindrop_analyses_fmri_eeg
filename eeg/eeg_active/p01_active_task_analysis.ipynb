{
 "cells": [
  {
   "cell_type": "code",
   "execution_count": 1,
   "metadata": {},
   "outputs": [],
   "source": [
    "# Author Davide Aloi\n",
    "# Scripts for the analyses of the EEG data (active task) collected at the Wellington Hospital - Aloi Davide PhD UoB"
   ]
  },
  {
   "cell_type": "code",
   "execution_count": 2,
   "metadata": {},
   "outputs": [
    {
     "name": "stdout",
     "output_type": "stream",
     "text": [
      "Using matplotlib backend: <object object at 0x000002BF20F21FC0>\n",
      "Now using CUDA device 0\n",
      "Enabling CUDA with 3.28 GB available memory\n"
     ]
    }
   ],
   "source": [
    "%matplotlib\n",
    "import numpy as np\n",
    "import mne\n",
    "import os\n",
    "import glob \n",
    "import cupy\n",
    "\n",
    "mne.set_log_level(\"WARNING\")\n",
    "mne.cuda.init_cuda(verbose=True)\n",
    "mne.utils.set_config('MNE_USE_CUDA', 'true')  \n",
    "\n",
    "# Folders to the EEG active task data\n",
    "output_folder = 'D:\\\\Raindrop_eeg_analysis\\\\p01\\\\'\n",
    "sessions = ['D:\\\\Raindrop_data\\\\p01\\\\p01_w01\\\\eeg_baseline\\\\active_task\\\\', # baseline w 1\n",
    "            'D:\\\\Raindrop_data\\\\p01\\\\p01_w02\\\\day04_eeg\\\\active_task\\\\', # post w 2\n",
    "            'D:\\\\Raindrop_data\\\\p01\\\\p01_w03\\\\eeg_baseline\\\\active_task\\\\', # baseline w 3\n",
    "            'D:\\\\Raindrop_data\\\\p01\\\\p01_w04\\\\day04_eeg\\\\active_task\\\\', # post w 4\n",
    "            'D:\\\\Raindrop_data\\\\p01\\\\p01_w05\\\\eeg_baseline\\\\active_task\\\\', # baseline w5\n",
    "            'D:\\\\Raindrop_data\\\\p01\\\\p01_w06\\\\day04_eeg\\\\active_task\\\\'] # post w6\n",
    "\n",
    "# Paths to .mff files\n",
    "sessions_raw = []\n",
    "for n, session in enumerate(sessions):\n",
    "    sessions_raw.append(glob.glob(session + '\\*.mff')[0])"
   ]
  },
  {
   "cell_type": "code",
   "execution_count": 3,
   "metadata": {},
   "outputs": [],
   "source": [
    "raw = mne.io.read_raw_egi(sessions_raw[0], preload=True)"
   ]
  },
  {
   "cell_type": "code",
   "execution_count": 4,
   "metadata": {},
   "outputs": [
    {
     "name": "stderr",
     "output_type": "stream",
     "text": [
      "<frozen importlib._bootstrap>:228: RuntimeWarning: scipy._lib.messagestream.MessageStream size changed, may indicate binary incompatibility. Expected 56 from C header, got 64 from PyObject\n"
     ]
    },
    {
     "name": "stdout",
     "output_type": "stream",
     "text": [
      "72 events found\n",
      "Event IDs: [1 2]\n"
     ]
    }
   ],
   "source": [
    "montage = mne.channels.make_standard_montage('GSN-HydroCel-128')\n",
    "raw_filtered = raw.copy().filter(1, 40)\n",
    "picks_eeg = mne.pick_types(raw.info, meg=False, eeg=True, stim=False,\n",
    "                       exclude='bads')\n",
    "events = mne.find_events(raw, stim_channel='STI 014', verbose=True) # or STIM"
   ]
  },
  {
   "cell_type": "code",
   "execution_count": null,
   "metadata": {},
   "outputs": [],
   "source": [
    "event_id = dict(move=1,relax=2)\n",
    "#event_id = dict(move=1)\n",
    "# epoching ALL DATA without baseline correction just to use ransac (bad channels detection)\n",
    "epoched = mne.Epochs(raw_filtered, events, event_id, 0, 2,\n",
    "                baseline=(0, 0), reject=None,\n",
    "                verbose=False, detrend=0, preload=True)\n",
    "\n",
    "\n",
    "from autoreject import Ransac  # this uses ransac from PREP\n",
    "ransac = Ransac(verbose=True, picks=picks_eeg, n_jobs=1)\n",
    "epochs_clean = ransac.fit_transform(epoched)\n",
    "bad_chs = ransac.bad_chs_ # list with bad channels according to RANSAC \n"
   ]
  },
  {
   "cell_type": "code",
   "execution_count": 24,
   "metadata": {},
   "outputs": [
    {
     "data": {
      "text/html": [
       "<table class=\"table table-hover table-striped table-sm table-responsive small\">\n",
       "    <tr>\n",
       "        <th>Number of events</th>\n",
       "        <td>5</td>\n",
       "    </tr>\n",
       "    <tr>\n",
       "        <th>Events</th>\n",
       "        \n",
       "        <td>move: 3<br/>relax: 2</td>\n",
       "        \n",
       "    </tr>\n",
       "    <tr>\n",
       "        <th>Time range</th>\n",
       "        <td>0.000 – 2.000 sec</td>\n",
       "    </tr>\n",
       "    <tr>\n",
       "        <th>Baseline</th>\n",
       "        <td>0.000 – 0.000 sec</td>\n",
       "    </tr>\n",
       "</table>"
      ],
      "text/plain": [
       "<Epochs |  5 events (all good), 0 - 2 sec, baseline 0 – 0 sec, ~10.3 MB, data loaded,\n",
       " 'move': 3\n",
       " 'relax': 2>"
      ]
     },
     "execution_count": 24,
     "metadata": {},
     "output_type": "execute_result"
    }
   ],
   "source": [
    "epoched"
   ]
  },
  {
   "cell_type": "code",
   "execution_count": null,
   "metadata": {},
   "outputs": [],
   "source": [
    "\n",
    "# Using autoreject to identify bad epochs\n",
    "import autoreject\n",
    "ar = autoreject.AutoReject(random_state=11,\n",
    "                           n_jobs=1, verbose=True)\n",
    "ar.fit(epoched[:12])  # fit on a few epochs to save time\n",
    "epochs_ar, reject_log = ar.transform(epoched, return_log=True)"
   ]
  },
  {
   "cell_type": "code",
   "execution_count": null,
   "metadata": {},
   "outputs": [],
   "source": [
    "ica = mne.preprocessing.ICA(random_state=99)\n",
    "ica.fit(epoched[~reject_log.bad_epochs])"
   ]
  },
  {
   "cell_type": "code",
   "execution_count": null,
   "metadata": {},
   "outputs": [],
   "source": [
    "#fig = mne.viz.plot_events(events, raw.info['sfreq'], event_id=event_id)\n",
    "#fig.subplots_adjust(right=0.7)  # make room for legend\n",
    "#raw_filtered.plot(events=events, start=5, duration=10, color='gray',\n",
    "#         event_color={1: 'r', 2: 'g'})"
   ]
  },
  {
   "cell_type": "code",
   "execution_count": null,
   "metadata": {},
   "outputs": [],
   "source": [
    "#raw.get_data(picks=picks_stim)"
   ]
  }
 ],
 "metadata": {
  "interpreter": {
   "hash": "1a04e8d3cf57eb13e3e424f0af4edd4725046eee0d61fcbf258511c525184dd3"
  },
  "kernelspec": {
   "display_name": "Python 3.9.7 ('neuroimg')",
   "language": "python",
   "name": "python3"
  },
  "language_info": {
   "codemirror_mode": {
    "name": "ipython",
    "version": 3
   },
   "file_extension": ".py",
   "mimetype": "text/x-python",
   "name": "python",
   "nbconvert_exporter": "python",
   "pygments_lexer": "ipython3",
   "version": "3.9.7"
  },
  "orig_nbformat": 4
 },
 "nbformat": 4,
 "nbformat_minor": 2
}
