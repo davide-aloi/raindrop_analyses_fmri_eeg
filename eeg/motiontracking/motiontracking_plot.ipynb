{
 "cells": [
  {
   "cell_type": "code",
   "execution_count": 218,
   "metadata": {},
   "outputs": [],
   "source": [
    "# Author Davide Aloi\n",
    "# Motion tracking analysis\n",
    "# Polhemus collects data at 60Hz so there's no need to filter. \n",
    "# Each trial file has a mat structure with 8 columns. Column 1 is the electrode number (1,2)\n",
    "# column 2-3-4 are x, y and z respectively, and column 8 is the time. \n",
    "\n",
    "# The onsets of the move and relax trials are stored in the files active_onsets_move and \n",
    "# active_onsets_relax.mat.\n",
    "\n",
    "import numpy as np\n",
    "import glob\n",
    "import scipy.io\n",
    "\n",
    "participant_path = \"D:\\\\Raindrop_data\\\\p01\\\\\"\n",
    "\n",
    "# paths to motriontracking subfolders\n",
    "mt_paths_baseline = glob.glob(participant_path + 'p*\\\\' + 'eeg_baseline\\\\active_task\\\\onsets*')\n",
    "mt_paths_post = glob.glob(participant_path + 'p*\\\\day04_eeg\\\\active_task\\\\onsets*' + '')\n",
    "\n"
   ]
  },
  {
   "cell_type": "code",
   "execution_count": 229,
   "metadata": {},
   "outputs": [
    {
     "name": "stdout",
     "output_type": "stream",
     "text": [
      "D:\\Raindrop_data\\p01\\p01_w01\\eeg_baseline\\active_task\\onsets_and_motiontracking\n",
      "D:\\Raindrop_data\\p01\\p01_w03\\eeg_baseline\\active_task\\onsets_and_motiontracking\n",
      "D:\\Raindrop_data\\p01\\p01_w05\\eeg_baseline\\active_task\\onsets_and_motiontracking\n"
     ]
    }
   ],
   "source": [
    "for path in mt_paths_baseline:\n",
    "    print(path)\n",
    "\n",
    "    # loading onsets\n",
    "    onsets_move = scipy.io.loadmat(glob.glob(path + '\\\\*_move.mat')[0])\n",
    "    onsets_relax = scipy.io.loadmat(glob.glob(path + '\\\\*_relax.mat')[0])\n",
    "\n",
    "    # loading trials (and sorting them from 1 to 30)\n",
    "    trials = glob.glob(path + '\\\\*trial*')\n",
    "    trials_sorted = sorted(trials, key=lambda x: int(x.split('_')[-1].split('.')[0]))\n",
    "    all_onsets = []\n",
    "\n",
    "    # variables where we'll store the polhemus data\n",
    "    x1, y1 , z1, time1 = [], [], [], []\n",
    "    x2, y2 , z2, time2 = [], [], [], []\n",
    "\n",
    "    # iterating each trial\n",
    "    for trial in trials:\n",
    "        trial_data = scipy.io.loadmat(trial)\n",
    "        trial_data = trial_data['this_trial_movements_tosave']\n",
    "        len_data = len(trial_data) # n data points\n",
    "        \n",
    "        # collecting data from electrode 1 \n",
    "        elect1 = trial_data[np.arange(0, len_data, 2)]\n",
    "        # collecting data from electrode 2 \n",
    "        elect2 = trial_data[np.arange(1, len_data, 2)]\n",
    "\n",
    "        for datapoint in elect1:\n",
    "            x1.append(datapoint[1][0][0])\n",
    "            y1.append(datapoint[2][0][0])\n",
    "            z1.append(datapoint[3][0][0])\n",
    "            time1.append(datapoint[5][0][0])\n",
    "        for datapoint in elect2:\n",
    "            x2.append(datapoint[1][0][0])\n",
    "            y2.append(datapoint[2][0][0])\n",
    "            z2.append(datapoint[3][0][0])\n",
    "            time2.append(datapoint[5][0][0])\n",
    "\n"
   ]
  },
  {
   "cell_type": "code",
   "execution_count": 235,
   "metadata": {},
   "outputs": [
    {
     "data": {
      "text/plain": [
       "5.955555555555555"
      ]
     },
     "execution_count": 235,
     "metadata": {},
     "output_type": "execute_result"
    }
   ],
   "source": [
    "len(x1)/60/60"
   ]
  },
  {
   "cell_type": "code",
   "execution_count": null,
   "metadata": {},
   "outputs": [],
   "source": []
  }
 ],
 "metadata": {
  "kernelspec": {
   "display_name": "Python 3.9.7 ('neuroimg')",
   "language": "python",
   "name": "python3"
  },
  "language_info": {
   "codemirror_mode": {
    "name": "ipython",
    "version": 3
   },
   "file_extension": ".py",
   "mimetype": "text/x-python",
   "name": "python",
   "nbconvert_exporter": "python",
   "pygments_lexer": "ipython3",
   "version": "3.9.12"
  },
  "orig_nbformat": 4,
  "vscode": {
   "interpreter": {
    "hash": "1a04e8d3cf57eb13e3e424f0af4edd4725046eee0d61fcbf258511c525184dd3"
   }
  }
 },
 "nbformat": 4,
 "nbformat_minor": 2
}
