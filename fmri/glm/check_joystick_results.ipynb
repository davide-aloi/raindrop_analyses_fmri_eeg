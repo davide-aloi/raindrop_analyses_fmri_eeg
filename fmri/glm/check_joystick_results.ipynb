{
 "cells": [
  {
   "cell_type": "code",
   "execution_count": 38,
   "metadata": {},
   "outputs": [],
   "source": [
    "# Author: Davide Aloi\n",
    "# Description: Opens each joystick session and verifies if there are voxels that survive \n",
    "# thresholding (p=0.001 --> t = 3.13)\n",
    "\n",
    "import nilearn\n",
    "from nilearn import image\n",
    "import glob\n",
    "import os\n",
    "import numpy as np\n",
    "from nilearn import reporting\n",
    "\n",
    "path_rois = 'C:\\\\Users\\\\davide\\\\Documents\\\\GitHub\\\\raindrop_analyses_fmri_eeg\\\\fmri\\\\rois\\\\'\n",
    "m1 = image.load_img(glob.glob(path_rois + 'wm1.nii')[0]) # m1 roi in the native space\n",
    "sma = image.load_img(glob.glob(path_rois + 'wsma.nii')[0]) # sma roi in the native space\n",
    "th = image.load_img(glob.glob(path_rois + 'wth.nii')[0]) # th roi in the native space\n",
    "rois = [m1, sma, th]\n",
    "roi_name = ['m1', 'sma', 'th']\n",
    "\n",
    "threshold = 3.13 # t threshold for p 0.001 uncorrected"
   ]
  },
  {
   "cell_type": "code",
   "execution_count": 33,
   "metadata": {},
   "outputs": [],
   "source": [
    "# creating list with SPM_t results for the joystick task\n",
    "path_res_p0 = 'D:\\\\Raindrop_data\\\\p01\\\\'\n",
    "path_joystick_results = glob.glob(path_res_p0 + 'p01_*\\\\day*\\\\fmri_data\\\\JOYSTICK*\\\\nifti\\\\glm_first_level\\\\spmT_0002.nii')"
   ]
  },
  {
   "cell_type": "code",
   "execution_count": 73,
   "metadata": {},
   "outputs": [
    {
     "name": "stdout",
     "output_type": "stream",
     "text": [
      "Opening D:\\Raindrop_data\\p01\\p01_w02\\day01\\fmri_data\\JOYSTICK_BASELINE_0015\\nifti\\glm_first_level\\spmT_0002.nii\n",
      "Applying ROI: m1\n",
      "number of significant voxels: 0\n",
      "Applying ROI: sma\n",
      "number of significant voxels: 0\n",
      "Applying ROI: th\n",
      "number of significant voxels: 0\n",
      "Opening D:\\Raindrop_data\\p01\\p01_w02\\day01\\fmri_data\\JOYSTICK_POST_0019\\nifti\\glm_first_level\\spmT_0002.nii\n",
      "Applying ROI: m1\n",
      "number of significant voxels: 0\n",
      "Applying ROI: sma\n",
      "number of significant voxels: 0\n",
      "Applying ROI: th\n",
      "number of significant voxels: 0\n",
      "Opening D:\\Raindrop_data\\p01\\p01_w02\\day05\\fmri_data\\JOYSTICK_POST_0010\\nifti\\glm_first_level\\spmT_0002.nii\n",
      "Applying ROI: m1\n",
      "number of significant voxels: 0\n",
      "Applying ROI: sma\n",
      "number of significant voxels: 0\n",
      "Applying ROI: th\n",
      "number of significant voxels: 0\n",
      "Opening D:\\Raindrop_data\\p01\\p01_w04\\day01\\fmri_data\\JOYSTICK_BASELINE_0005\\nifti\\glm_first_level\\spmT_0002.nii\n",
      "Applying ROI: m1\n",
      "number of significant voxels: 0\n",
      "Applying ROI: sma\n",
      "number of significant voxels: 0\n",
      "Applying ROI: th\n",
      "number of significant voxels: 0\n",
      "Opening D:\\Raindrop_data\\p01\\p01_w04\\day01\\fmri_data\\JOYSTICK_POST_0009\\nifti\\glm_first_level\\spmT_0002.nii\n",
      "Applying ROI: m1\n",
      "number of significant voxels: 0\n",
      "Applying ROI: sma\n",
      "number of significant voxels: 0\n",
      "Applying ROI: th\n",
      "number of significant voxels: 0\n",
      "Opening D:\\Raindrop_data\\p01\\p01_w04\\day05\\fmri_data\\JOYSTICK_BASELINE_0005\\nifti\\glm_first_level\\spmT_0002.nii\n",
      "Applying ROI: m1\n",
      "number of significant voxels: 0\n",
      "Applying ROI: sma\n",
      "number of significant voxels: 0\n",
      "Applying ROI: th\n",
      "number of significant voxels: 0\n",
      "Opening D:\\Raindrop_data\\p01\\p01_w04\\day05\\fmri_data\\JOYSTICK_POST_0009\\nifti\\glm_first_level\\spmT_0002.nii\n",
      "Applying ROI: m1\n",
      "number of significant voxels: 0\n",
      "Applying ROI: sma\n",
      "number of significant voxels: 0\n",
      "Applying ROI: th\n",
      "number of significant voxels: 0\n",
      "Opening D:\\Raindrop_data\\p01\\p01_w06\\day01\\fmri_data\\JOYSTICK_BASELINE_0005\\nifti\\glm_first_level\\spmT_0002.nii\n",
      "Applying ROI: m1\n",
      "number of significant voxels: 49\n",
      "   Cluster ID   X   Y   Z  Peak Stat  Cluster Size (mm3)\n",
      "0           1 -21 -42  48      4.256                 562\n",
      "1           2 -26 -20  42      3.691                  78\n",
      "2           3 -13 -27  47      3.517                  78\n",
      "3           4 -16 -37  43      3.199                  15\n",
      "4           5 -26 -25  45      3.195                  15\n",
      "5           6 -18 -30  45      3.144                  15\n",
      "Applying ROI: sma\n",
      "number of significant voxels: 78\n",
      "   Cluster ID   X   Y   Z  Peak Stat  Cluster Size (mm3)\n",
      "0           1 -11 -30  43      4.531                1031\n",
      "1           2  -1  -5  34      3.574                 187\n",
      "Applying ROI: th\n",
      "number of significant voxels: 0\n",
      "Opening D:\\Raindrop_data\\p01\\p01_w06\\day01\\fmri_data\\JOYSTICK_POST_0009\\nifti\\glm_first_level\\spmT_0002.nii\n",
      "Applying ROI: m1\n",
      "number of significant voxels: 0\n",
      "Applying ROI: sma\n",
      "number of significant voxels: 0\n",
      "Applying ROI: th\n",
      "number of significant voxels: 0\n",
      "Opening D:\\Raindrop_data\\p01\\p01_w06\\day05\\fmri_data\\JOYSTICK_BASELINE_0005\\nifti\\glm_first_level\\spmT_0002.nii\n",
      "Applying ROI: m1\n",
      "number of significant voxels: 0\n",
      "Applying ROI: sma\n",
      "number of significant voxels: 0\n",
      "Applying ROI: th\n",
      "number of significant voxels: 0\n",
      "Opening D:\\Raindrop_data\\p01\\p01_w06\\day05\\fmri_data\\JOYSTICK_POST_0009\\nifti\\glm_first_level\\spmT_0002.nii\n",
      "Applying ROI: m1\n",
      "number of significant voxels: 0\n",
      "Applying ROI: sma\n",
      "number of significant voxels: 0\n",
      "Applying ROI: th\n",
      "number of significant voxels: 0\n"
     ]
    }
   ],
   "source": [
    "# looping through spm_t maps applying the 3 rois to each spm_t\n",
    "# then checking if suprathreshold voxels are present\n",
    "for spm_t in path_joystick_results:\n",
    "    print('Opening ' + spm_t)\n",
    "    spm_t_img = image.load_img(spm_t)\n",
    "\n",
    "    for n_roi, roi in enumerate(rois):\n",
    "\n",
    "        print('Applying ROI: ' + roi_name[n_roi])\n",
    "        roi_resampled = image.resample_to_img(roi, spm_t_img, interpolation = 'nearest')\n",
    "        spm_t_img_masked = np.where(roi_resampled.get_fdata() == 1, spm_t_img.get_fdata(), 0)\n",
    "        # counting suprathreshold voxels\n",
    "        \n",
    "        supr_voxels = (spm_t_img_masked.flatten() > threshold).sum()\n",
    "        print('number of significant voxels: ' + str(supr_voxels))\n",
    "\n",
    "        if supr_voxels > 0:\n",
    "            table = reporting.get_clusters_table(image.new_img_like(spm_t_img, spm_t_img_masked), threshold, 1, min_distance = 8)\n",
    "            table['X'] = table['X'].round().astype(int)\n",
    "            table['Y'] = table['Y'].round().astype(int)\n",
    "            table['Z'] = table['Z'].round().astype(int)\n",
    "\n",
    "            print(table.round(3))\n",
    "\n",
    "# Results can be verified by loading the spm.mat file and applying a ROI\n",
    "# The only significant results are in week 6 day 1 joystick baseline (ROIs: m1 and sma)\n",
    "# NB the tables resulting from get_clusters_table might differ slighly from SPM ones\n",
    "# as SPM outputs the first 3 local maxima only."
   ]
  },
  {
   "cell_type": "code",
   "execution_count": 72,
   "metadata": {},
   "outputs": [
    {
     "data": {
      "text/plain": [
       "0   -10\n",
       "1     0\n",
       "Name: X, dtype: int32"
      ]
     },
     "execution_count": 72,
     "metadata": {},
     "output_type": "execute_result"
    }
   ],
   "source": []
  },
  {
   "cell_type": "code",
   "execution_count": 61,
   "metadata": {},
   "outputs": [
    {
     "data": {
      "text/plain": [
       "15.625"
      ]
     },
     "execution_count": 61,
     "metadata": {},
     "output_type": "execute_result"
    }
   ],
   "source": [
    "2.5*2.5*2.5"
   ]
  },
  {
   "cell_type": "code",
   "execution_count": null,
   "metadata": {},
   "outputs": [],
   "source": []
  }
 ],
 "metadata": {
  "kernelspec": {
   "display_name": "Python 3.9.7 ('neuroimg')",
   "language": "python",
   "name": "python3"
  },
  "language_info": {
   "codemirror_mode": {
    "name": "ipython",
    "version": 3
   },
   "file_extension": ".py",
   "mimetype": "text/x-python",
   "name": "python",
   "nbconvert_exporter": "python",
   "pygments_lexer": "ipython3",
   "version": "3.9.7"
  },
  "orig_nbformat": 4,
  "vscode": {
   "interpreter": {
    "hash": "1a04e8d3cf57eb13e3e424f0af4edd4725046eee0d61fcbf258511c525184dd3"
   }
  }
 },
 "nbformat": 4,
 "nbformat_minor": 2
}
