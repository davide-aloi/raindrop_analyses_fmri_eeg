{
 "cells": [
  {
   "cell_type": "code",
   "execution_count": 13,
   "metadata": {},
   "outputs": [],
   "source": [
    "# Author: Davide Aloi\n",
    "# Description: script to create SMA, m1 and th rois\n",
    "import nilearn\n",
    "from nilearn import image\n",
    "import glob\n",
    "import os\n",
    "\n",
    "path = 'D:\\\\Raindrop_data\\\\p01\\\\other_files\\\\anat_normalised\\\\'\n",
    "\n",
    "rT1 = image.load_img(glob.glob(path + 'rT*.nii')[0]) # nor"
   ]
  },
  {
   "cell_type": "code",
   "execution_count": 14,
   "metadata": {},
   "outputs": [],
   "source": [
    "# Loading AAL3 atlas to extract m1, th and SMA rois\n",
    "# AAL3 atlas paper: https://www.oxcns.org/papers/607%20Rolls%20Huang%20Lin%20Feng%20Joliot%202020%20AAL3.pdf \n",
    "AAl3_path = os.path.join('C:\\\\Users\\\\davide\\\\Documents\\\\GitHub\\\\raindrop_analyses_fmri_eeg\\\\fmri\\\\rois\\\\', 'AAL3v1_1mm.nii')\n",
    "AAL3_atlas = image.load_img(AAl3_path)\n",
    "sma = image.math_img(\"np.where(img == 15, 1, 0)\", img = AAL3_atlas)\n",
    "m1 = image.math_img(\"np.where(img == 1, 1, 0)\", img = AAL3_atlas) \n",
    "th = image.math_img(\"np.where(np.isin(img, np.arange(121, 150, 2)), 1, 0)\", img = AAL3_atlas) "
   ]
  },
  {
   "cell_type": "code",
   "execution_count": 15,
   "metadata": {},
   "outputs": [],
   "source": [
    "import matplotlib.pyplot as plt\n",
    "sma_resampled = image.resample_to_img(sma, rT1, interpolation = 'nearest')\n",
    "m1_resampled = image.resample_to_img(m1, rT1, interpolation = 'nearest')\n",
    "th_resampled = image.resample_to_img(th, rT1, interpolation = 'nearest')\n",
    "\n",
    "# saving resampled ROIS (MNI space)\n",
    "from nilearn.image import new_img_like\n",
    "sma_resampled.to_filename('sma.nii')\n",
    "m1_resampled.to_filename('m1.nii')\n",
    "th_resampled.to_filename('th.nii')"
   ]
  },
  {
   "cell_type": "code",
   "execution_count": null,
   "metadata": {},
   "outputs": [],
   "source": [
    "# These ROIS will be used as images to write in the batch file mni_space_to_native_space.mat\n",
    "# The deformation field will be the output from the batch file normalisation.mat (specifically\n",
    "# the file iy_*.nii)"
   ]
  }
 ],
 "metadata": {
  "kernelspec": {
   "display_name": "Python 3.9.7 ('neuroimg')",
   "language": "python",
   "name": "python3"
  },
  "language_info": {
   "codemirror_mode": {
    "name": "ipython",
    "version": 3
   },
   "file_extension": ".py",
   "mimetype": "text/x-python",
   "name": "python",
   "nbconvert_exporter": "python",
   "pygments_lexer": "ipython3",
   "version": "3.9.7"
  },
  "orig_nbformat": 4,
  "vscode": {
   "interpreter": {
    "hash": "1a04e8d3cf57eb13e3e424f0af4edd4725046eee0d61fcbf258511c525184dd3"
   }
  }
 },
 "nbformat": 4,
 "nbformat_minor": 2
}
