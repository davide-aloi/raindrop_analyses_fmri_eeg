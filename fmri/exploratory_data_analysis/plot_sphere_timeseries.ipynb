{
 "cells": [
  {
   "cell_type": "code",
   "execution_count": 65,
   "metadata": {},
   "outputs": [],
   "source": [
    "# Author Davide Aloi\n",
    "# Description: Load anat file and plot the sphere used in visualise_bold_rois.ipynb\n",
    "import numpy as np\n",
    "import glob\n",
    "import nilearn\n",
    "from nilearn import image\n",
    "import matplotlib.pyplot as plt\n",
    "\n",
    "# Function to convert coordinates from world to matrix space (in this case from )\n",
    "def w_to_matrix(mni_coords, T):\n",
    "    first_arg = np.transpose(np.linalg.inv(T))\n",
    "    second_arg = (np.array([mni_coords[0],mni_coords[1],mni_coords[2], 1]))\n",
    "    mat_coord = np.dot(second_arg,first_arg)\n",
    "    mat_coord = mat_coord[0:3]\n",
    "    mat_coord = np.round(mat_coord[:])\n",
    "    return mat_coord"
   ]
  },
  {
   "cell_type": "code",
   "execution_count": 66,
   "metadata": {},
   "outputs": [],
   "source": [
    "path = 'D:\\\\Raindrop_data\\\\p01\\\\p01_w06\\\\day05\\\\fmri_data\\\\TENNIS_TASK_0006\\\\nifti\\\\anat\\\\'\n",
    "anat = image.load_img(glob.glob(path + 'rT1*.nii')[0])\n",
    "# Coordinates used to plot CI values / time series\n",
    "c = (-25, -33, 37)"
   ]
  },
  {
   "cell_type": "code",
   "execution_count": 74,
   "metadata": {},
   "outputs": [],
   "source": [
    "center = w_to_matrix(c, anat.affine)\n",
    "distance = np.linalg.norm(np.subtract(np.indices(anat.get_fdata().shape).T,np.asarray(center)), axis=len(center))\n",
    "# 12mm of radius are 4.8 voxels (voxel dim 2.5)\n",
    "sphere = np.where(distance.T < 4.8, 1, 0)"
   ]
  },
  {
   "cell_type": "code",
   "execution_count": 75,
   "metadata": {},
   "outputs": [],
   "source": [
    "from nilearn.image import new_img_like\n",
    "# you can open this as an overlay on mricrogl to show where we extracted the data from.\n",
    "new_img_like(anat, sphere).to_filename('sphere_-25_-33_37.nii')"
   ]
  }
 ],
 "metadata": {
  "interpreter": {
   "hash": "1a04e8d3cf57eb13e3e424f0af4edd4725046eee0d61fcbf258511c525184dd3"
  },
  "kernelspec": {
   "display_name": "Python 3.9.7 ('neuroimg')",
   "language": "python",
   "name": "python3"
  },
  "language_info": {
   "codemirror_mode": {
    "name": "ipython",
    "version": 3
   },
   "file_extension": ".py",
   "mimetype": "text/x-python",
   "name": "python",
   "nbconvert_exporter": "python",
   "pygments_lexer": "ipython3",
   "version": "3.9.7"
  },
  "orig_nbformat": 4
 },
 "nbformat": 4,
 "nbformat_minor": 2
}
