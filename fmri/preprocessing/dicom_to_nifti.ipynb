{
 "cells": [
  {
   "cell_type": "code",
   "execution_count": 2,
   "metadata": {},
   "outputs": [],
   "source": [
    "# Author: Davide Aloi, PhD student, University of Birmingham.\n",
    "# Description: convert dicoms to nifti.\n",
    "# Library needed: dicom2nifti (pip install dicom2nifti)\n",
    "\n",
    "import os\n",
    "import dicom2nifti\n",
    "from tqdm import tqdm# progress bar\n",
    "\n",
    "# Main path to patient's main folder\n",
    "path = \"D:\\\\Raindrop_data\\\\p01\\\\\"\n",
    "# Consider only subfolders containing the following string\n",
    "folder_dicom = 'fmri_data\\\\'"
   ]
  },
  {
   "cell_type": "code",
   "execution_count": 3,
   "metadata": {},
   "outputs": [],
   "source": [
    "# Function to iterate through folders / subfolders \n",
    "# Returns a list of subfolders                                                                                                                      \n",
    "def list_files(dir):                                                                                                  \n",
    "    r = []                                                                                                            \n",
    "    subdirs = [x[0] for x in os.walk(dir)]                                                                            \n",
    "    for subdir in subdirs:                                                                                                                                                          \n",
    "        r.append(os.path.join(subdir))                                                                         \n",
    "    return r"
   ]
  },
  {
   "cell_type": "code",
   "execution_count": 4,
   "metadata": {},
   "outputs": [
    {
     "name": "stdout",
     "output_type": "stream",
     "text": [
      "Number of DICOM scans to convert: 67\n",
      "['D:\\\\Raindrop_data\\\\p01\\\\p01_w02\\\\day01\\\\fmri_data\\\\AAHEAD_SCOUT_0005', 'D:\\\\Raindrop_data\\\\p01\\\\p01_w02\\\\day01\\\\fmri_data\\\\AAHEAD_SCOUT_MPR_COR_0007', 'D:\\\\Raindrop_data\\\\p01\\\\p01_w02\\\\day01\\\\fmri_data\\\\AAHEAD_SCOUT_MPR_SAG_0006', 'D:\\\\Raindrop_data\\\\p01\\\\p01_w02\\\\day01\\\\fmri_data\\\\AAHEAD_SCOUT_MPR_TRA_0008', 'D:\\\\Raindrop_data\\\\p01\\\\p01_w02\\\\day01\\\\fmri_data\\\\GRE_FIELDMAP_0021']\n"
     ]
    }
   ],
   "source": [
    "all_folders = [x for x in list_files(path) if folder_dicom in x] # list of subfolders \"fmri_data\"\n",
    "all_folders = [x for x in all_folders if 'nifti' not in x]\n",
    "# Check a few subfolders\n",
    "print('Number of DICOM scans to convert: ' + str(len(all_folders)))\n",
    "print(all_folders[0:5])"
   ]
  },
  {
   "cell_type": "code",
   "execution_count": 5,
   "metadata": {},
   "outputs": [
    {
     "name": "stdout",
     "output_type": "stream",
     "text": [
      "Converting D:\\Raindrop_data\\p01\\p01_w02\\day01\\fmri_data\\AAHEAD_SCOUT_0005\\nifti\\\n",
      "Too few slices / localiser. Not converting.\n",
      "Too few slices / localiser. Not converting.\n",
      "Too few slices / localiser. Not converting.\n",
      "Converting D:\\Raindrop_data\\p01\\p01_w02\\day01\\fmri_data\\GRE_FIELDMAP_0021\\nifti\\\n",
      "Converting D:\\Raindrop_data\\p01\\p01_w02\\day01\\fmri_data\\GRE_FIELDMAP_0022\\nifti\\\n",
      "Converting D:\\Raindrop_data\\p01\\p01_w02\\day01\\fmri_data\\HCP_A_SMS_AP_98_1_7MM_0023\\nifti\\\n",
      "Converting D:\\Raindrop_data\\p01\\p01_w02\\day01\\fmri_data\\HCP_A_SMS_AP_99_1_7MM_0025\\nifti\\\n",
      "Converting D:\\Raindrop_data\\p01\\p01_w02\\day01\\fmri_data\\HCP_A_SMS_PA_98_1_7MM_B0_0024\\nifti\\\n",
      "Converting D:\\Raindrop_data\\p01\\p01_w02\\day01\\fmri_data\\HCP_A_SMS_PA_99_1_7MM_B0_0026\\nifti\\\n",
      "Converting D:\\Raindrop_data\\p01\\p01_w02\\day01\\fmri_data\\JOYSTICK_BASELINE_0015\\nifti\\\n",
      "Converting D:\\Raindrop_data\\p01\\p01_w02\\day01\\fmri_data\\JOYSTICK_POST_0019\\nifti\\\n",
      "Converting D:\\Raindrop_data\\p01\\p01_w02\\day01\\fmri_data\\LOCALISER_64CH_0001\\nifti\\\n",
      "Converting D:\\Raindrop_data\\p01\\p01_w02\\day01\\fmri_data\\LOCALISER_64CH_0009\\nifti\\\n",
      "Too few slices / localiser. Not converting.\n",
      "Too few slices / localiser. Not converting.\n",
      "Too few slices / localiser. Not converting.\n",
      "Too few slices / localiser. Not converting.\n",
      "Too few slices / localiser. Not converting.\n",
      "Too few slices / localiser. Not converting.\n",
      "Converting D:\\Raindrop_data\\p01\\p01_w02\\day01\\fmri_data\\PASSIVE_MOV_DURING_TDCS_0018\\nifti\\\n",
      "Converting D:\\Raindrop_data\\p01\\p01_w02\\day01\\fmri_data\\PHOENIXZIPREPORT_0099\\nifti\\\n",
      "Converting D:\\Raindrop_data\\p01\\p01_w02\\day01\\fmri_data\\RESTING_STATE_BASELINE_0017\\nifti\\\n",
      "Converting D:\\Raindrop_data\\p01\\p01_w02\\day01\\fmri_data\\RESTING_STATE_POST_0020\\nifti\\\n",
      "Converting D:\\Raindrop_data\\p01\\p01_w02\\day01\\fmri_data\\T1_VOL_V1_0013\\nifti\\\n",
      "Converting D:\\Raindrop_data\\p01\\p01_w02\\day01\\fmri_data\\T2_SPACE_SAG_P2_ISO_0014\\nifti\\\n",
      "Converting D:\\Raindrop_data\\p01\\p01_w02\\day01\\fmri_data\\TENNIS_TASK_0016\\nifti\\\n",
      "Converting D:\\Raindrop_data\\p01\\p01_w02\\day05\\day05\\fmri_data\\GRE_FIELDMAP_0012\\nifti\\\n"
     ]
    },
    {
     "name": "stderr",
     "output_type": "stream",
     "text": [
      "c:\\Users\\davide\\miniconda3\\envs\\neuroimg\\lib\\site-packages\\dicom2nifti\\convert_siemens.py:282: RuntimeWarning: invalid value encountered in true_divide\n",
      "  current_direction = current_direction / numpy.linalg.norm(current_direction)\n",
      "Traceback (most recent call last):\n",
      "  File \"c:\\Users\\davide\\miniconda3\\envs\\neuroimg\\lib\\site-packages\\dicom2nifti\\convert_dir.py\", line 87, in convert_directory\n",
      "    convert_dicom.dicom_array_to_nifti(dicom_input, nifti_file, reorient)\n",
      "  File \"c:\\Users\\davide\\miniconda3\\envs\\neuroimg\\lib\\site-packages\\dicom2nifti\\convert_dicom.py\", line 120, in dicom_array_to_nifti\n",
      "    results = convert_siemens.dicom_to_nifti(dicom_list, output_file)\n",
      "  File \"c:\\Users\\davide\\miniconda3\\envs\\neuroimg\\lib\\site-packages\\dicom2nifti\\convert_siemens.py\", line 76, in dicom_to_nifti\n",
      "    return _classic_4d_to_nifti(grouped_dicoms, output_file)\n",
      "  File \"c:\\Users\\davide\\miniconda3\\envs\\neuroimg\\lib\\site-packages\\dicom2nifti\\convert_siemens.py\", line 218, in _classic_4d_to_nifti\n",
      "    affine, slice_increment = common.create_affine(grouped_dicoms[0])\n",
      "  File \"c:\\Users\\davide\\miniconda3\\envs\\neuroimg\\lib\\site-packages\\dicom2nifti\\common.py\", line 598, in create_affine\n",
      "    raise ConversionError(\"NOT_A_VOLUME\")\n",
      "dicom2nifti.exceptions.ConversionError: NOT_A_VOLUME\n"
     ]
    },
    {
     "name": "stdout",
     "output_type": "stream",
     "text": [
      "Converting D:\\Raindrop_data\\p01\\p01_w02\\day05\\day05\\fmri_data\\GRE_FIELDMAP_0013\\nifti\\\n",
      "Converting D:\\Raindrop_data\\p01\\p01_w02\\day05\\day05\\fmri_data\\HCP_A_SMS_AP_98_1_7MM_0014\\nifti\\\n",
      "Converting D:\\Raindrop_data\\p01\\p01_w02\\day05\\day05\\fmri_data\\HCP_A_SMS_AP_99_1_7MM_0016\\nifti\\\n",
      "Converting D:\\Raindrop_data\\p01\\p01_w02\\day05\\day05\\fmri_data\\HCP_A_SMS_PA_98_1_7MM_B0_0015\\nifti\\\n",
      "Converting D:\\Raindrop_data\\p01\\p01_w02\\day05\\day05\\fmri_data\\HCP_A_SMS_PA_99_1_7MM_B0_0017\\nifti\\\n",
      "Converting D:\\Raindrop_data\\p01\\p01_w02\\day05\\day05\\fmri_data\\JOYSTICK_BASELINE_0005\\nifti\\\n",
      "Converting D:\\Raindrop_data\\p01\\p01_w02\\day05\\day05\\fmri_data\\JOYSTICK_POST_0010\\nifti\\\n",
      "Converting D:\\Raindrop_data\\p01\\p01_w02\\day05\\day05\\fmri_data\\LOCALISER_64CH_0001\\nifti\\\n",
      "Too few slices / localiser. Not converting.\n",
      "Too few slices / localiser. Not converting.\n",
      "Too few slices / localiser. Not converting.\n",
      "Converting D:\\Raindrop_data\\p01\\p01_w02\\day05\\day05\\fmri_data\\PASSIVE_MOV_DURING_TDCS_0008\\nifti\\\n",
      "Converting D:\\Raindrop_data\\p01\\p01_w02\\day05\\day05\\fmri_data\\PASSIVE_MOV_DURING_TDCS_0009\\nifti\\\n",
      "Converting D:\\Raindrop_data\\p01\\p01_w02\\day05\\day05\\fmri_data\\PHOENIXZIPREPORT_0099\\nifti\\\n",
      "Converting D:\\Raindrop_data\\p01\\p01_w02\\day05\\day05\\fmri_data\\RESTING_STATE_BASELINE_0007\\nifti\\\n",
      "Converting D:\\Raindrop_data\\p01\\p01_w02\\day05\\day05\\fmri_data\\RESTING_STATE_POST_0011\\nifti\\\n",
      "Converting D:\\Raindrop_data\\p01\\p01_w02\\day05\\day05\\fmri_data\\TENNIS_TASK_0006\\nifti\\\n",
      "Converting D:\\Raindrop_data\\p01\\p01_w04\\day-05\\fmri_data\\JOYSTICK_BASELINE_0005\\nifti\\\n",
      "Converting D:\\Raindrop_data\\p01\\p01_w04\\day-05\\fmri_data\\JOYSTICK_POST_0009\\nifti\\\n",
      "Converting D:\\Raindrop_data\\p01\\p01_w04\\day-05\\fmri_data\\LOCALISER_64CH_0001\\nifti\\\n",
      "Too few slices / localiser. Not converting.\n",
      "Too few slices / localiser. Not converting.\n",
      "Too few slices / localiser. Not converting.\n",
      "Converting D:\\Raindrop_data\\p01\\p01_w04\\day-05\\fmri_data\\PASSIVE_MOV_DURING_TDCS_0008\\nifti\\\n",
      "Converting D:\\Raindrop_data\\p01\\p01_w04\\day-05\\fmri_data\\PHOENIXZIPREPORT_0099\\nifti\\\n",
      "Converting D:\\Raindrop_data\\p01\\p01_w04\\day-05\\fmri_data\\RESTING_STATE_BASELINE_0007\\nifti\\\n",
      "Converting D:\\Raindrop_data\\p01\\p01_w04\\day-05\\fmri_data\\RESTING_STATE_POST_0010\\nifti\\\n",
      "Converting D:\\Raindrop_data\\p01\\p01_w04\\day-05\\fmri_data\\TENNIS_TASK_0006\\nifti\\\n",
      "Converting D:\\Raindrop_data\\p01\\p01_w04\\day01\\fmri_data\\JOYSTICK_BASELINE_0005\\nifti\\\n",
      "Converting D:\\Raindrop_data\\p01\\p01_w04\\day01\\fmri_data\\JOYSTICK_POST_0009\\nifti\\\n",
      "Converting D:\\Raindrop_data\\p01\\p01_w04\\day01\\fmri_data\\LOCALISER_64CH_0001\\nifti\\\n"
     ]
    },
    {
     "name": "stderr",
     "output_type": "stream",
     "text": [
      "Removing duplicate slice from series\n"
     ]
    },
    {
     "name": "stdout",
     "output_type": "stream",
     "text": [
      "Too few slices / localiser. Not converting.\n",
      "Converting D:\\Raindrop_data\\p01\\p01_w04\\day01\\fmri_data\\LOCALISER_64CH_MPR_SAG_0002\\nifti\\\n",
      "Too few slices / localiser. Not converting.\n",
      "Converting D:\\Raindrop_data\\p01\\p01_w04\\day01\\fmri_data\\PASSIVE_MOV_DURING_TDCS_0008\\nifti\\\n"
     ]
    },
    {
     "name": "stderr",
     "output_type": "stream",
     "text": [
      "Traceback (most recent call last):\n",
      "  File \"c:\\Users\\davide\\miniconda3\\envs\\neuroimg\\lib\\site-packages\\dicom2nifti\\convert_dir.py\", line 87, in convert_directory\n",
      "    convert_dicom.dicom_array_to_nifti(dicom_input, nifti_file, reorient)\n",
      "  File \"c:\\Users\\davide\\miniconda3\\envs\\neuroimg\\lib\\site-packages\\dicom2nifti\\convert_dicom.py\", line 120, in dicom_array_to_nifti\n",
      "    results = convert_siemens.dicom_to_nifti(dicom_list, output_file)\n",
      "  File \"c:\\Users\\davide\\miniconda3\\envs\\neuroimg\\lib\\site-packages\\dicom2nifti\\convert_siemens.py\", line 63, in dicom_to_nifti\n",
      "    raise ConversionValidationError('TOO_FEW_SLICES/LOCALIZER')\n",
      "dicom2nifti.exceptions.ConversionValidationError: TOO_FEW_SLICES/LOCALIZER\n"
     ]
    },
    {
     "name": "stdout",
     "output_type": "stream",
     "text": [
      "Converting D:\\Raindrop_data\\p01\\p01_w04\\day01\\fmri_data\\PHOENIXZIPREPORT_0099\\nifti\\\n",
      "Converting D:\\Raindrop_data\\p01\\p01_w04\\day01\\fmri_data\\RESTING_STATE_BASELINE_0007\\nifti\\\n",
      "Converting D:\\Raindrop_data\\p01\\p01_w04\\day01\\fmri_data\\RESTING_STATE_POST_0010\\nifti\\\n",
      "Converting D:\\Raindrop_data\\p01\\p01_w04\\day01\\fmri_data\\TENNIS_TASK_0006\\nifti\\\n"
     ]
    }
   ],
   "source": [
    "for folder in all_folders:\n",
    "\n",
    "    # 1) Iterating each subfolder containing dicom files\n",
    "    # 2) Converting only scans with more than 5 slices\n",
    "    if len(next(os.walk(folder))[2]) > 5:\n",
    "        output_name =  folder.split('\\\\')[-1] + '.nii'\n",
    "        output_folder = folder + '\\\\nifti\\\\'\n",
    "        print('Converting ' + output_folder)\n",
    "        if not os.path.isdir(output_folder):\n",
    "            os.mkdir(output_folder) # creating nifti folder\n",
    "            try:\n",
    "                dicom2nifti.convert_directory(folder, output_folder, compression=False)\n",
    "            except Exception as e:\n",
    "                print(e)\n",
    "    else:\n",
    "        print('Too few slices / localiser. Not converting.')"
   ]
  }
 ],
 "metadata": {
  "interpreter": {
   "hash": "1a04e8d3cf57eb13e3e424f0af4edd4725046eee0d61fcbf258511c525184dd3"
  },
  "kernelspec": {
   "display_name": "Python 3.9.7 ('neuroimg')",
   "language": "python",
   "name": "python3"
  },
  "language_info": {
   "codemirror_mode": {
    "name": "ipython",
    "version": 3
   },
   "file_extension": ".py",
   "mimetype": "text/x-python",
   "name": "python",
   "nbconvert_exporter": "python",
   "pygments_lexer": "ipython3",
   "version": "3.9.7"
  },
  "orig_nbformat": 4
 },
 "nbformat": 4,
 "nbformat_minor": 2
}
