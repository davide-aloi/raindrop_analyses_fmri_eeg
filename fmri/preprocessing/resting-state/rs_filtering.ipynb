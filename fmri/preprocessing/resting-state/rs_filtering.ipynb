{
 "cells": [
  {
   "cell_type": "code",
   "execution_count": 1,
   "metadata": {},
   "outputs": [
    {
     "name": "stderr",
     "output_type": "stream",
     "text": [
      "c:\\Users\\davide\\miniconda3\\envs\\neuroimg\\lib\\site-packages\\dicom\\__init__.py:53: UserWarning: \n",
      "This code is using an older version of pydicom, which is no longer \n",
      "maintained as of Jan 2017.  You can access the new pydicom features and API \n",
      "by installing `pydicom` from PyPI.\n",
      "See 'Transitioning to pydicom 1.x' section at pydicom.readthedocs.org \n",
      "for more information.\n",
      "\n",
      "  warnings.warn(msg)\n"
     ]
    }
   ],
   "source": [
    "# Author: Davide Aloi\n",
    "# Function: the script cleans the resting state data acquired at the Welly.\n",
    "# Preprocessing steps applied: low / high pass filter, confound regression, \n",
    "# drift removal (detrend), standardisation (i.e. set mean to 0 and std to 1)\n",
    "# (nb that's why the cleaned scans don't look like brains anymore,\n",
    "# see https://neurostars.org/t/using-nilearn-image-clean-img/2413) and finally smoothing.\n",
    "# \n",
    "# Reference: https://carpentries-incubator.github.io/SDC-BIDS-fMRI/05-data-cleaning-with-nilearn/index.html\n",
    "\n",
    "import numpy as np\n",
    "import glob\n",
    "import os\n",
    "from nilearn import image\n",
    "from nilearn import signal\n",
    "\n",
    "# Path to files to clean and smooth\n",
    "# My confounds are the movement regressors + stick regressor (7 regressors, in file regr.txt) \n",
    "folder = 'D:\\\\Raindrop_data\\\\p01\\\\'\n",
    "rs_files = glob.glob(folder + \"*\\\\*\\\\fmri_data\\\\RESTING*\\\\nifti\\\\rR*.nii\")\n",
    "rp_files = glob.glob(folder + \"*\\\\*\\\\fmri_data\\\\RESTING*\\\\nifti\\\\regr*.txt\") # confounds\n",
    "\n",
    "# Nilearn clean_img settings \n",
    "v_to_skip = 4 # number of initial volumes (and timepoints in the confound variable) to be skipped\n",
    "t_r = 1.77\n",
    "high_pass = 0.001\n",
    "low_pass = 0.1\n",
    "\n",
    "# Smoothing settings\n",
    "kmm = 5 # kernel mm"
   ]
  },
  {
   "cell_type": "code",
   "execution_count": 2,
   "metadata": {},
   "outputs": [
    {
     "name": "stdout",
     "output_type": "stream",
     "text": [
      "rRESTING_STATE_BASELINE_0017_resting_state_baseline_20220503122456_17a.nii\n"
     ]
    },
    {
     "name": "stderr",
     "output_type": "stream",
     "text": [
      "c:\\Users\\davide\\miniconda3\\envs\\neuroimg\\lib\\site-packages\\nilearn\\datasets\\__init__.py:93: FutureWarning: Fetchers from the nilearn.datasets module will be updated in version 0.9 to return python strings instead of bytes and Pandas dataframes instead of Numpy arrays.\n",
      "  warn(\"Fetchers from the nilearn.datasets module will be \"\n",
      "c:\\Users\\davide\\miniconda3\\envs\\neuroimg\\lib\\site-packages\\nilearn\\image\\image.py:1106: FutureWarning: The parameter \"sessions\" will be removed in 0.9.0 release of Nilearn. Please use the parameter \"runs\" instead.\n",
      "  data = signal.clean(\n"
     ]
    }
   ],
   "source": [
    "for rs_scan, rp in zip(rs_files, rp_files):\n",
    "    path = '\\\\'.join(rs_scan.split('\\\\')[0:-1]) # where to save the cleaned file\n",
    "    fname = rs_scan.split('\\\\')[-1] # filename\n",
    "    print(fname)\n",
    "\n",
    "    # Loading data and confounds, and dropping first 4 volumes and confounds timepoints\n",
    "    rs_data = image.load_img(rs_scan)\n",
    "    rs_data = rs_data.slicer[:,:,:,v_to_skip:]\n",
    "    confounds = np.loadtxt(rp, dtype=str, delimiter=',', skiprows=0)[v_to_skip:,:] \n",
    "\n",
    "    # Cleaning data\n",
    "    rs_cleaned = image.clean_img(rs_data, confounds=confounds, detrend=True, standardize=True,\n",
    "                                 low_pass=low_pass, high_pass=high_pass, t_r=t_r)\n",
    "    # Smoothing\n",
    "    rs_smoothed = image.smooth_img(rs_cleaned, fwhm=kmm) \n",
    "\n",
    "    # Saving\n",
    "    rs_smoothed.to_filename(path + '\\\\s' + fname)"
   ]
  }
 ],
 "metadata": {
  "kernelspec": {
   "display_name": "Python 3.9.12 ('neuroimg')",
   "language": "python",
   "name": "python3"
  },
  "language_info": {
   "codemirror_mode": {
    "name": "ipython",
    "version": 3
   },
   "file_extension": ".py",
   "mimetype": "text/x-python",
   "name": "python",
   "nbconvert_exporter": "python",
   "pygments_lexer": "ipython3",
   "version": "3.9.12"
  },
  "orig_nbformat": 4,
  "vscode": {
   "interpreter": {
    "hash": "1a04e8d3cf57eb13e3e424f0af4edd4725046eee0d61fcbf258511c525184dd3"
   }
  }
 },
 "nbformat": 4,
 "nbformat_minor": 2
}
