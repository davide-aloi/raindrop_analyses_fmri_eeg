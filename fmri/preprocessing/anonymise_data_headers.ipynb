{
 "cells": [
  {
   "cell_type": "code",
   "execution_count": 1,
   "metadata": {},
   "outputs": [],
   "source": [
    "# Author: Davide Aloi, PhD student, University of Birmingham.\n",
    "# Description: This script removes the name of the participant the headers of the dicom files.\n",
    "\n",
    "# Usage: You need to open one dicom file, read the header, and check the code of the field where the name\n",
    "# of the participant is stored (something like [0x0010, 0x0010]).\n",
    "\n",
    "# To do so, you can do: img = pydicom.read_file(path_to_a_dicom_file)\n",
    "# then: print(img) \n",
    "\n",
    "# Then set field_code to the code of the header field you need to modify.\n",
    "# The script will then change the value of that field in the header to new_name (that can\n",
    "# be the number of the participant for example).\n",
    "\n",
    "import os\n",
    "import pydicom \n",
    "\n",
    "path = \"D:\\\\Raindrop_data\\\\p01\\\\\"\n",
    "field_code = [0x0010, 0x0010]\n",
    "new_name = 'p01'"
   ]
  },
  {
   "cell_type": "code",
   "execution_count": 2,
   "metadata": {},
   "outputs": [],
   "source": [
    "# Function to iterate through folders / subfolders \n",
    "# Returns a list of files                                                                                                                      \n",
    "def list_files(dir):                                                                                                  \n",
    "    r = []                                                                                                            \n",
    "    subdirs = [x[0] for x in os.walk(dir)]                                                                            \n",
    "    for subdir in subdirs:                                                                                            \n",
    "        files = next(os.walk(subdir))[2]                                                                             \n",
    "        if (len(files) > 0):                                                                                          \n",
    "            for file in files:                                                                                        \n",
    "                r.append(os.path.join(subdir, file))                                                                         \n",
    "    return r "
   ]
  },
  {
   "cell_type": "code",
   "execution_count": 3,
   "metadata": {},
   "outputs": [
    {
     "name": "stdout",
     "output_type": "stream",
     "text": [
      "To review the list of files do: print(files)\n"
     ]
    }
   ],
   "source": [
    "files = list_files(path)\n",
    "print('To review the list of files do: print(files)') "
   ]
  },
  {
   "cell_type": "code",
   "execution_count": 4,
   "metadata": {},
   "outputs": [
    {
     "name": "stdout",
     "output_type": "stream",
     "text": [
      "8432 dicom headers have been anonymised.\n"
     ]
    }
   ],
   "source": [
    "# Iterate through the headers of the dicom files and change the field with the name of the patient\n",
    "n = 0 # N DICOM files\n",
    "for file in files:\n",
    "        if 'IMA' in file: #check if the file is a dicom file\n",
    "            n = n + 1\n",
    "            img = pydicom.read_file(file) # read IMA file\n",
    "            elem = img[field_code] # read pname field in the header\n",
    "            elem.value = new_name # changing it to new name\n",
    "            img.save_as(file)\n",
    "\n",
    "print(str(n) + ' dicom headers have been anonymised.')"
   ]
  }
 ],
 "metadata": {
  "interpreter": {
   "hash": "1a04e8d3cf57eb13e3e424f0af4edd4725046eee0d61fcbf258511c525184dd3"
  },
  "kernelspec": {
   "display_name": "Python 3.9.7 ('neuroimg')",
   "language": "python",
   "name": "python3"
  },
  "language_info": {
   "codemirror_mode": {
    "name": "ipython",
    "version": 3
   },
   "file_extension": ".py",
   "mimetype": "text/x-python",
   "name": "python",
   "nbconvert_exporter": "python",
   "pygments_lexer": "ipython3",
   "version": "3.9.7"
  },
  "orig_nbformat": 4
 },
 "nbformat": 4,
 "nbformat_minor": 2
}
