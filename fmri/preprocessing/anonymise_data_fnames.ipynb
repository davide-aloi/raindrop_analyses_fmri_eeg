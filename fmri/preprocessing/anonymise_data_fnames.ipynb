{
 "cells": [
  {
   "cell_type": "code",
   "execution_count": 1,
   "metadata": {},
   "outputs": [],
   "source": [
    "# Author: Davide Aloi, PhD student, University of Birmingham.\n",
    "# Description: This script removes the name of the participant from all the DICOM files in\n",
    "# in each subfolder of a given path. \n",
    "\n",
    "import os\n",
    "\n",
    "# Participant's name as appears in the DICOM files. ! Remove this after usage !\n",
    "# For example: pname = DAVIDE_ALOI.\n",
    "pname = \"XXX\"\n",
    "path = \"D:\\\\Raindrop_data\\\\p01\\\\\""
   ]
  },
  {
   "cell_type": "code",
   "execution_count": 2,
   "metadata": {},
   "outputs": [],
   "source": [
    "# Function to iterate through folders / subfolders \n",
    "# Returns a list of files                                                                                                                      \n",
    "def list_files(dir):                                                                                                  \n",
    "    r = []                                                                                                            \n",
    "    subdirs = [x[0] for x in os.walk(dir)]                                                                            \n",
    "    for subdir in subdirs:                                                                                            \n",
    "        files = next(os.walk(subdir))[2]                                                                             \n",
    "        if (len(files) > 0):                                                                                          \n",
    "            for file in files:                                                                                        \n",
    "                r.append(os.path.join(subdir, file))                                                                         \n",
    "    return r \n"
   ]
  },
  {
   "cell_type": "code",
   "execution_count": 3,
   "metadata": {},
   "outputs": [
    {
     "name": "stdout",
     "output_type": "stream",
     "text": [
      "To review the list of files do: print(files)\n"
     ]
    }
   ],
   "source": [
    "files = list_files(path)\n",
    "print('To review the list of files do: print(files)')"
   ]
  },
  {
   "cell_type": "code",
   "execution_count": 6,
   "metadata": {},
   "outputs": [
    {
     "name": "stdout",
     "output_type": "stream",
     "text": [
      "2648 out of 11506 files have to be anonymised\n"
     ]
    }
   ],
   "source": [
    "# Iterate through files and and check how many files have to be anonymised\n",
    "\n",
    "n = 0 # Files to be anonymised\n",
    "for file in files:\n",
    "        if pname in file:\n",
    "            n = n + 1\n",
    "\n",
    "print(str(n) + ' out of ' + str(len(files)) + ' files have to be anonymised')"
   ]
  },
  {
   "cell_type": "code",
   "execution_count": 7,
   "metadata": {},
   "outputs": [],
   "source": [
    "# Remove name of participant from file names\n",
    "for file in files: \n",
    "        if pname in file:\n",
    "            os.rename(file, file.replace(pname, ''))"
   ]
  }
 ],
 "metadata": {
  "interpreter": {
   "hash": "1a04e8d3cf57eb13e3e424f0af4edd4725046eee0d61fcbf258511c525184dd3"
  },
  "kernelspec": {
   "display_name": "Python 3.9.7 ('neuroimg')",
   "language": "python",
   "name": "python3"
  },
  "language_info": {
   "codemirror_mode": {
    "name": "ipython",
    "version": 3
   },
   "file_extension": ".py",
   "mimetype": "text/x-python",
   "name": "python",
   "nbconvert_exporter": "python",
   "pygments_lexer": "ipython3",
   "version": "3.9.7"
  },
  "orig_nbformat": 4
 },
 "nbformat": 4,
 "nbformat_minor": 2
}
