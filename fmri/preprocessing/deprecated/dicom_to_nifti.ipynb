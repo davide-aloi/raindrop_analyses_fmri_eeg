{
 "cells": [
  {
   "cell_type": "code",
   "execution_count": 7,
   "metadata": {},
   "outputs": [],
   "source": [
    "# Author: Davide Aloi, PhD student, University of Birmingham.\n",
    "# Description: convert dicom to nifti.\n",
    "# Library needed: dicom2nifti (pip install dicom2nifti)\n",
    "\n",
    "import os\n",
    "import dicom2nifti\n",
    "\n",
    "# Main path to patient's main folder\n",
    "path = \"D:\\\\Raindrop_data\\\\p01\\\\\"\n",
    "# Consider only subfolders containing the following string\n",
    "folder_dicom = 'fmri_data\\\\'"
   ]
  },
  {
   "cell_type": "code",
   "execution_count": 8,
   "metadata": {},
   "outputs": [],
   "source": [
    "# Function to iterate through folders / subfolders \n",
    "# Returns a list of subfolders                                                                                                                      \n",
    "def list_files(dir):                                                                                                  \n",
    "    r = []                                                                                                            \n",
    "    subdirs = [x[0] for x in os.walk(dir)]                                                                            \n",
    "    for subdir in subdirs:                                                                                                                                                          \n",
    "        r.append(os.path.join(subdir))                                                                         \n",
    "    return r"
   ]
  },
  {
   "cell_type": "code",
   "execution_count": 14,
   "metadata": {},
   "outputs": [
    {
     "name": "stdout",
     "output_type": "stream",
     "text": [
      "Number of DICOM scans to convert: 33\n",
      "['D:\\\\Raindrop_data\\\\p01\\\\p01_w02\\\\day01\\\\fmri_data\\\\TENNIS_TASK_0016\\\\nifti2', 'D:\\\\Raindrop_data\\\\p01\\\\p01_w02\\\\day05\\\\day05\\\\fmri_data\\\\GRE_FIELDMAP_0012\\\\nifti', 'D:\\\\Raindrop_data\\\\p01\\\\p01_w02\\\\day05\\\\day05\\\\fmri_data\\\\GRE_FIELDMAP_0013\\\\nifti', 'D:\\\\Raindrop_data\\\\p01\\\\p01_w02\\\\day05\\\\day05\\\\fmri_data\\\\HCP_A_SMS_AP_98_1_7MM_0014\\\\nifti', 'D:\\\\Raindrop_data\\\\p01\\\\p01_w02\\\\day05\\\\day05\\\\fmri_data\\\\HCP_A_SMS_AP_99_1_7MM_0016\\\\nifti']\n"
     ]
    }
   ],
   "source": [
    "all_folders = [x for x in list_files(path) if folder_dicom in x] # list of subfolders \"fmri_data\"\n",
    "all_folders = [x for x in all_folders if 'nifti' in x]\n",
    "# Check a few subfolders\n",
    "print('Number of DICOM scans to convert: ' + str(len(all_folders)))\n",
    "print(all_folders[0:5])"
   ]
  },
  {
   "cell_type": "code",
   "execution_count": 10,
   "metadata": {},
   "outputs": [
    {
     "name": "stdout",
     "output_type": "stream",
     "text": [
      "Too few slices / localiser. Not converting.\n",
      "Too few slices / localiser. Not converting.\n",
      "Too few slices / localiser. Not converting.\n",
      "Too few slices / localiser. Not converting.\n",
      "Too few slices / localiser. Not converting.\n",
      "Too few slices / localiser. Not converting.\n",
      "Too few slices / localiser. Not converting.\n",
      "Too few slices / localiser. Not converting.\n",
      "Too few slices / localiser. Not converting.\n",
      "Too few slices / localiser. Not converting.\n",
      "Too few slices / localiser. Not converting.\n",
      "Too few slices / localiser. Not converting.\n",
      "Too few slices / localiser. Not converting.\n",
      "Too few slices / localiser. Not converting.\n",
      "Too few slices / localiser. Not converting.\n",
      "Too few slices / localiser. Not converting.\n",
      "Too few slices / localiser. Not converting.\n",
      "Too few slices / localiser. Not converting.\n",
      "Too few slices / localiser. Not converting.\n",
      "Too few slices / localiser. Not converting.\n",
      "Too few slices / localiser. Not converting.\n",
      "Too few slices / localiser. Not converting.\n",
      "Too few slices / localiser. Not converting.\n",
      "Too few slices / localiser. Not converting.\n",
      "Too few slices / localiser. Not converting.\n",
      "Too few slices / localiser. Not converting.\n",
      "Too few slices / localiser. Not converting.\n",
      "Too few slices / localiser. Not converting.\n",
      "Too few slices / localiser. Not converting.\n",
      "Too few slices / localiser. Not converting.\n",
      "Too few slices / localiser. Not converting.\n",
      "Too few slices / localiser. Not converting.\n",
      "Too few slices / localiser. Not converting.\n",
      "Too few slices / localiser. Not converting.\n",
      "Too few slices / localiser. Not converting.\n",
      "Too few slices / localiser. Not converting.\n",
      "Too few slices / localiser. Not converting.\n",
      "Too few slices / localiser. Not converting.\n",
      "Too few slices / localiser. Not converting.\n",
      "Too few slices / localiser. Not converting.\n",
      "Too few slices / localiser. Not converting.\n",
      "Too few slices / localiser. Not converting.\n",
      "Too few slices / localiser. Not converting.\n",
      "Too few slices / localiser. Not converting.\n",
      "Too few slices / localiser. Not converting.\n",
      "Too few slices / localiser. Not converting.\n",
      "Too few slices / localiser. Not converting.\n",
      "Too few slices / localiser. Not converting.\n",
      "Too few slices / localiser. Not converting.\n",
      "Too few slices / localiser. Not converting.\n",
      "Too few slices / localiser. Not converting.\n"
     ]
    }
   ],
   "source": [
    "for folder in all_folders:\n",
    "\n",
    "    # 1) Iterating each subfolder containing dicom files\n",
    "    # 2) Converting only scans with more than 5 slices\n",
    "    if len(next(os.walk(folder))[2]) > 5:\n",
    "        output_name =  folder.split('\\\\')[-1] + '.nii'\n",
    "        output_folder = folder + '\\\\nifti\\\\'\n",
    "        print('Converting ' + output_folder)\n",
    "        if not os.path.isdir(output_folder):\n",
    "            os.mkdir(output_folder) # creating nifti folder\n",
    "            try:\n",
    "                dicom2nifti.convert_directory(folder, output_folder, compression=False)\n",
    "            except Exception as e:\n",
    "                print(e)\n",
    "    else:\n",
    "        print('Too few slices / localiser. Not converting.')"
   ]
  }
 ],
 "metadata": {
  "interpreter": {
   "hash": "1a04e8d3cf57eb13e3e424f0af4edd4725046eee0d61fcbf258511c525184dd3"
  },
  "kernelspec": {
   "display_name": "Python 3.9.7 ('neuroimg')",
   "language": "python",
   "name": "python3"
  },
  "language_info": {
   "codemirror_mode": {
    "name": "ipython",
    "version": 3
   },
   "file_extension": ".py",
   "mimetype": "text/x-python",
   "name": "python",
   "nbconvert_exporter": "python",
   "pygments_lexer": "ipython3",
   "version": "3.9.7"
  },
  "orig_nbformat": 4
 },
 "nbformat": 4,
 "nbformat_minor": 2
}
