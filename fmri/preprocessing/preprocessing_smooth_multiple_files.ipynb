{
 "cells": [
  {
   "cell_type": "code",
   "execution_count": 1,
   "metadata": {},
   "outputs": [
    {
     "name": "stderr",
     "output_type": "stream",
     "text": [
      "c:\\Users\\davide\\miniconda3\\envs\\neuroimg\\lib\\site-packages\\dicom\\__init__.py:53: UserWarning: \n",
      "This code is using an older version of pydicom, which is no longer \n",
      "maintained as of Jan 2017.  You can access the new pydicom features and API \n",
      "by installing `pydicom` from PyPI.\n",
      "See 'Transitioning to pydicom 1.x' section at pydicom.readthedocs.org \n",
      "for more information.\n",
      "\n",
      "  warnings.warn(msg)\n"
     ]
    }
   ],
   "source": [
    "# Author Davide Aloi\n",
    "# You can use this script to smooth multiple files instead of doing it with the bash.\n",
    "# Here you can see an example on the resting state data. However I am not using this anymore\n",
    "# as I'm first performing some preprocessing steps (detrending, confound cleaning, filtering etc)\n",
    "# with the script preprocessing/rs_filtering.ipynb\n",
    "\n",
    "import numpy as np\n",
    "import glob\n",
    "import os\n",
    "from nilearn import image\n",
    "\n",
    "folder = 'D:\\\\Raindrop_data\\\\p01\\\\'\n",
    "files_to_smooth = glob.glob(folder + \"*\\\\*\\\\fmri_data\\\\RESTING*\\\\nifti\\\\rR*.nii\")"
   ]
  },
  {
   "cell_type": "code",
   "execution_count": 3,
   "metadata": {},
   "outputs": [],
   "source": [
    "for file in files_to_smooth:\n",
    "    path = '\\\\'.join(file.split('\\\\')[0:-1]) # where to save the smoothed file\n",
    "    fname = file.split('\\\\')[-1] # filename\n",
    "    img = image.load_img(file) # loading image to smooth\n",
    "    s_img = image.smooth_img(img, fwhm=8) # smoothing image with 8mm kernel\n",
    "    s_img.to_filename(path + '\\\\s'+ fname) # saving new img appendin s to fname"
   ]
  }
 ],
 "metadata": {
  "kernelspec": {
   "display_name": "Python 3.9.12 ('neuroimg')",
   "language": "python",
   "name": "python3"
  },
  "language_info": {
   "codemirror_mode": {
    "name": "ipython",
    "version": 3
   },
   "file_extension": ".py",
   "mimetype": "text/x-python",
   "name": "python",
   "nbconvert_exporter": "python",
   "pygments_lexer": "ipython3",
   "version": "3.9.12"
  },
  "orig_nbformat": 4,
  "vscode": {
   "interpreter": {
    "hash": "1a04e8d3cf57eb13e3e424f0af4edd4725046eee0d61fcbf258511c525184dd3"
   }
  }
 },
 "nbformat": 4,
 "nbformat_minor": 2
}
