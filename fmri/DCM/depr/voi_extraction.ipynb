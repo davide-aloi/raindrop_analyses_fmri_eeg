{
 "cells": [
  {
   "cell_type": "code",
   "execution_count": 1,
   "metadata": {},
   "outputs": [
    {
     "name": "stderr",
     "output_type": "stream",
     "text": [
      "<frozen importlib._bootstrap>:228: RuntimeWarning: scipy._lib.messagestream.MessageStream size changed, may indicate binary incompatibility. Expected 56 from C header, got 64 from PyObject\n",
      "c:\\Users\\davide\\miniconda3\\envs\\neuroimg\\lib\\site-packages\\dicom\\__init__.py:53: UserWarning: \n",
      "This code is using an older version of pydicom, which is no longer \n",
      "maintained as of Jan 2017.  You can access the new pydicom features and API \n",
      "by installing `pydicom` from PyPI.\n",
      "See 'Transitioning to pydicom 1.x' section at pydicom.readthedocs.org \n",
      "for more information.\n",
      "\n",
      "  warnings.warn(msg)\n",
      "c:\\Users\\davide\\miniconda3\\envs\\neuroimg\\lib\\site-packages\\nilearn\\datasets\\__init__.py:93: FutureWarning: Fetchers from the nilearn.datasets module will be updated in version 0.9 to return python strings instead of bytes and Pandas dataframes instead of Numpy arrays.\n",
      "  warn(\"Fetchers from the nilearn.datasets module will be \"\n"
     ]
    }
   ],
   "source": [
    "# Author Davide Aloi\n",
    "# Description: extract vois for DCM\n",
    "import numpy as np\n",
    "import glob\n",
    "import nilearn\n",
    "from nilearn import image\n",
    "import matplotlib.pyplot as plt\n",
    "from nilearn import input_data\n",
    "import scipy.io\n",
    "\n",
    "folder = 'D:\\\\Raindrop_data\\\\p01\\\\'\n",
    "\n",
    "rois = ['m1', 'sma', 'th']\n",
    "\n",
    "coords = [[-25, -33, 37],\n",
    "          [-6.9, -22.9, 48.1],\n",
    "          [-10, -21.4, -3.8]]\n",
    "\n",
    "radius = [4, 4, 4] #mm\n",
    "\n",
    "path_joystick_scans = glob.glob(folder + 'p01_*\\\\day*\\\\fmri_data\\\\JOYSTICK*\\\\nifti\\\\sr*.nii')"
   ]
  },
  {
   "cell_type": "code",
   "execution_count": 2,
   "metadata": {},
   "outputs": [
    {
     "name": "stdout",
     "output_type": "stream",
     "text": [
      "D:\\Raindrop_data\\p01\\p01_w02\\day01\\fmri_data\\JOYSTICK_BASELINE_0015\\nifti\\\n",
      "m1\n",
      "sma\n",
      "th\n",
      "D:\\Raindrop_data\\p01\\p01_w02\\day01\\fmri_data\\JOYSTICK_POST_0019\\nifti\\\n",
      "m1\n",
      "sma\n",
      "th\n",
      "D:\\Raindrop_data\\p01\\p01_w02\\day05\\fmri_data\\JOYSTICK_BASELINE_0005\\nifti\\\n",
      "m1\n",
      "sma\n",
      "th\n",
      "D:\\Raindrop_data\\p01\\p01_w02\\day05\\fmri_data\\JOYSTICK_POST_0010\\nifti\\\n",
      "m1\n",
      "sma\n",
      "th\n",
      "D:\\Raindrop_data\\p01\\p01_w04\\day01\\fmri_data\\JOYSTICK_BASELINE_0005\\nifti\\\n",
      "m1\n",
      "sma\n",
      "th\n",
      "D:\\Raindrop_data\\p01\\p01_w04\\day01\\fmri_data\\JOYSTICK_POST_0009\\nifti\\\n",
      "m1\n",
      "sma\n",
      "th\n",
      "D:\\Raindrop_data\\p01\\p01_w04\\day05\\fmri_data\\JOYSTICK_BASELINE_0005\\nifti\\\n",
      "m1\n",
      "sma\n",
      "th\n",
      "D:\\Raindrop_data\\p01\\p01_w04\\day05\\fmri_data\\JOYSTICK_POST_0009\\nifti\\\n",
      "m1\n",
      "sma\n",
      "th\n",
      "D:\\Raindrop_data\\p01\\p01_w06\\day01\\fmri_data\\JOYSTICK_BASELINE_0005\\nifti\\\n",
      "m1\n",
      "sma\n",
      "th\n",
      "D:\\Raindrop_data\\p01\\p01_w06\\day01\\fmri_data\\JOYSTICK_POST_0009\\nifti\\\n",
      "m1\n",
      "sma\n",
      "th\n",
      "D:\\Raindrop_data\\p01\\p01_w06\\day05\\fmri_data\\JOYSTICK_BASELINE_0005\\nifti\\\n",
      "m1\n",
      "sma\n",
      "th\n",
      "D:\\Raindrop_data\\p01\\p01_w06\\day05\\fmri_data\\JOYSTICK_POST_0009\\nifti\\\n",
      "m1\n",
      "sma\n",
      "th\n"
     ]
    }
   ],
   "source": [
    "# iterate time series and extract rois. \n",
    "for i, path in enumerate(path_joystick_scans):\n",
    "    # Path to scan\n",
    "    print(path.split('sr')[0])\n",
    "\n",
    "    # Iterating rois\n",
    "    for r, roi in enumerate(rois):\n",
    "        print(roi)\n",
    "\n",
    "        # Loading scan\n",
    "        scan = image.load_img(path)\n",
    "\n",
    "        # Creating sphere\n",
    "        seed_masker = input_data.NiftiSpheresMasker([coords[r]], radius=radius[r], \n",
    "                                                    detrend = True, standardize=True,\n",
    "                                                    memory='nilearn_cache', memory_level=1,\n",
    "                                                    verbose=0)\n",
    "        # Extracting VOI\n",
    "        seed_time_series = seed_masker.fit_transform(scan)\n",
    "\n",
    "        # Eaving output in mat file\n",
    "        scipy.io.savemat(path.split('sr')[0] + roi + \"_voi.mat\", {\"Y\": seed_time_series})"
   ]
  }
 ],
 "metadata": {
  "kernelspec": {
   "display_name": "Python 3.9.7 ('neuroimg')",
   "language": "python",
   "name": "python3"
  },
  "language_info": {
   "codemirror_mode": {
    "name": "ipython",
    "version": 3
   },
   "file_extension": ".py",
   "mimetype": "text/x-python",
   "name": "python",
   "nbconvert_exporter": "python",
   "pygments_lexer": "ipython3",
   "version": "3.9.7"
  },
  "orig_nbformat": 4,
  "vscode": {
   "interpreter": {
    "hash": "1a04e8d3cf57eb13e3e424f0af4edd4725046eee0d61fcbf258511c525184dd3"
   }
  }
 },
 "nbformat": 4,
 "nbformat_minor": 2
}
